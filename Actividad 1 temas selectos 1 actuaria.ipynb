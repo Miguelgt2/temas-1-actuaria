{
 "cells": [
  {
   "cell_type": "markdown",
   "id": "cc9b63da",
   "metadata": {},
   "source": [
    "# Ejercicio 1"
   ]
  },
  {
   "cell_type": "code",
   "execution_count": 90,
   "id": "df7257af",
   "metadata": {},
   "outputs": [],
   "source": [
    "import numpy as np"
   ]
  },
  {
   "cell_type": "markdown",
   "id": "1748d24a",
   "metadata": {},
   "source": [
    "# Aleatoriedad"
   ]
  },
  {
   "cell_type": "code",
   "execution_count": 13,
   "id": "bccb1db1",
   "metadata": {},
   "outputs": [],
   "source": [
    "def runs_test(data):\n",
    "    # Convertir los datos a una secuencia binaria para la prueba de runs\n",
    "    median = np.median(data)  # Calcula la mediana de los datos. La mediana se usa para separar los datos en dos grupos.\n",
    "    binary_data = np.where(data > median, 1, 0)  # Convierte los datos en una secuencia binaria: 1 si es mayor que la mediana, 0 si es menor o igual.\n",
    "\n",
    "    # Contar el número de \"runs\" (secuencias consecutivas de 0s o 1s)\n",
    "    runs = np.count_nonzero(np.diff(binary_data) != 0) + 1\n",
    "    # np.diff(binary_data) calcula la diferencia entre elementos consecutivos de binary_data.\n",
    "    # np.count_nonzero() cuenta cuántas diferencias son distintas de 0, es decir, cuántos cambios hay entre 0s y 1s.\n",
    "    # +1 se agrega para incluir el primer run.\n",
    "\n",
    "    # Número total de 0s y 1s\n",
    "    n0 = np.sum(binary_data == 0)  # Cuenta el número de 0s en binary_data.\n",
    "    n1 = np.sum(binary_data == 1)  # Cuenta el número de 1s en binary_data.\n",
    "\n",
    "    # Calcular la estadística de la prueba y el valor p\n",
    "    expected_runs = 1 + (2 * n0 * n1) / (n0 + n1)\n",
    "    # La fórmula para el número esperado de runs en una secuencia binaria es 1 + (2 * n0 * n1) / (n0 + n1).\n",
    "\n",
    "    variance_runs = (expected_runs - 1) * (expected_runs - 2) / (n0 + n1 - 1)\n",
    "    # La varianza de los runs se calcula con la fórmula (expected_runs - 1) * (expected_runs - 2) / (n0 + n1 - 1).\n",
    "\n",
    "    z = (runs - expected_runs) / np.sqrt(variance_runs)\n",
    "    # La estadística z se calcula como (runs - expected_runs) / sqrt(variance_runs), que mide cuántos errores estándar está el número observado de runs del esperado.\n",
    "\n",
    "    p_value = 2 * (1 - stats.norm.cdf(np.abs(z)))\n",
    "    # El valor p se calcula usando la distribución normal estándar. stats.norm.cdf() calcula la función de distribución acumulativa.\n",
    "    # 2 * (1 - CDF) se usa para obtener el valor p bilateral, que indica la probabilidad de observar un valor z tan extremo como el calculado.\n",
    "\n",
    "    return runs, expected_runs, variance_runs, z, p_value\n",
    "    # Devuelve el número observado de runs, el número esperado de runs, la varianza de los runs, la estadística z y el valor p.\n",
    "\n"
   ]
  },
  {
   "cell_type": "code",
   "execution_count": 94,
   "id": "1431fcc3",
   "metadata": {},
   "outputs": [
    {
     "data": {
      "text/plain": [
       "[0.500003912486136,\n",
       " 0.5000000006984919,\n",
       " 3.912486135959625e-06,\n",
       " 6.984919309616089e-10,\n",
       " 0.500003912486136,\n",
       " 0.5000000006984919,\n",
       " 3.912486135959625e-06,\n",
       " 6.984919309616089e-10,\n",
       " 0.500003912486136,\n",
       " 0.5000000006984919]"
      ]
     },
     "execution_count": 94,
     "metadata": {},
     "output_type": "execute_result"
    }
   ],
   "source": [
    "u(3,(2**31)-1,7**5,2**32,10)"
   ]
  },
  {
   "cell_type": "code",
   "execution_count": 92,
   "id": "ba6e7818",
   "metadata": {},
   "outputs": [],
   "source": [
    "#Función que devuelve los números pseudoaleatorios usando glc\n",
    "def u(X0,a,c,m,n):\n",
    "    valor = X0 #guardamos en \"valor\" la semilla\n",
    "    lista = [] #declaramos una lista vacia\n",
    "    for i in range(1,n+1): #usamos 5 +1 solo para indicar que el valor máximo de \"i\"\n",
    "        valor = (a*valor + c) % m #generamos el segundo valor\n",
    "        lista.append(valor/m) #guardamos el resultado en la lista\n",
    "    return lista"
   ]
  },
  {
   "cell_type": "code",
   "execution_count": 17,
   "id": "8c7f0c0f",
   "metadata": {},
   "outputs": [
    {
     "name": "stdout",
     "output_type": "stream",
     "text": [
      "Número de runs: 50\n",
      "Número esperado de runs: 51.0\n",
      "Varianza de runs: 24.747474747474747\n",
      "Estadística z: -0.201017818278147\n",
      "Valor p: 0.8406846414712399\n"
     ]
    }
   ],
   "source": [
    "# Ejemplo de uso\n",
    "data = u(3,(2**31)-1,7**5,2**32,100)  # Genera un array de 100 datos aleatorios entre 0 y 1.\n",
    "runs, expected_runs, variance_runs, z, p_value = runs_test(data)\n",
    "# Llama a la función runs_test con los datos generados y guarda los resultados en las variables correspondientes.\n",
    "\n",
    "print(f'Número de runs: {runs}')\n",
    "print(f'Número esperado de runs: {expected_runs}')\n",
    "print(f'Varianza de runs: {variance_runs}')\n",
    "print(f'Estadística z: {z}')\n",
    "print(f'Valor p: {p_value}')\n",
    "# Imprime el número de runs observado, el número esperado de runs, la varianza de los runs, la estadística z y el valor p.\n"
   ]
  },
  {
   "cell_type": "markdown",
   "id": "d07f187d",
   "metadata": {},
   "source": [
    "# conclusion"
   ]
  },
  {
   "cell_type": "markdown",
   "id": "c27e1414",
   "metadata": {},
   "source": [
    "no se rechaza la hipotesis nula, por lo tanto, los datos son aleatoreos"
   ]
  },
  {
   "cell_type": "code",
   "execution_count": 18,
   "id": "519866d1",
   "metadata": {},
   "outputs": [],
   "source": [
    "import numpy as np\n",
    "import scipy.stats as stats\n",
    "\n",
    "def anderson_darling_uniform_test(data):\n",
    "    \"\"\"\n",
    "    Realiza la prueba de bondad de ajuste de Anderson-Darling para verificar si los datos \n",
    "    siguen una distribución uniforme.\n",
    "\n",
    "    Parameters:\n",
    "    data (array-like): Muestra de datos a ser probada.\n",
    "\n",
    "    Returns:\n",
    "    A2 (float): Estadístico de la prueba de Anderson-Darling.\n",
    "    p_value (float): Valor p estimado a partir de la simulación.\n",
    "    \"\"\"\n",
    "    # Asegurarse de que los datos estén en el rango [0, 1]\n",
    "    data = np.clip(data, 0, 1)\n",
    "\n",
    "    # Ordenar los datos de menor a mayor\n",
    "    sorted_data = np.sort(data)\n",
    "    n = len(data)  # Número de datos en la muestra\n",
    "\n",
    "    # Calcular el estadístico de Anderson-Darling para la distribución uniforme\n",
    "    # Para la distribución uniforme, F(x) = x (CDF uniforme)\n",
    "    cdf_values = sorted_data\n",
    "    # Term1 es la suma de los logaritmos de los valores CDF y su complemento\n",
    "    term1 = -np.sum((2 * np.arange(1, n + 1) - 1) * (np.log(cdf_values) + np.log(1 - cdf_values)))\n",
    "    term2 = -n  # Término de ajuste\n",
    "\n",
    "    # Calcula el estadístico A2\n",
    "    A2 = (term1 / n) + term2\n",
    "\n",
    "    # Aproximar el valor p usando simulaciones para crear una distribución de referencia\n",
    "    num_simulations = 10000  # Número de simulaciones para aproximar la distribución de A2\n",
    "    simulated_statistics = []\n",
    "\n",
    "    for _ in range(num_simulations):\n",
    "        # Generar datos simulados uniformemente distribuidos\n",
    "        simulated_data = np.random.uniform(0, 1, size=n)\n",
    "        simulated_sorted_data = np.sort(simulated_data)\n",
    "        simulated_cdf_values = simulated_sorted_data\n",
    "        \n",
    "        # Calcular el estadístico de Anderson-Darling para los datos simulados\n",
    "        simulated_term1 = -np.sum((2 * np.arange(1, n + 1) - 1) * (np.log(simulated_cdf_values) + np.log(1 - simulated_cdf_values)))\n",
    "        simulated_term2 = -n\n",
    "        simulated_A2 = (simulated_term1 / n) + simulated_term2\n",
    "        \n",
    "        simulated_statistics.append(simulated_A2)\n",
    "\n",
    "    simulated_statistics = np.array(simulated_statistics)\n",
    "    # Calcular el valor p como la proporción de estadísticos simulados que son mayores o iguales a A2\n",
    "    p_value = np.mean(simulated_statistics >= A2)\n",
    "\n",
    "    return A2, p_value\n"
   ]
  },
  {
   "cell_type": "code",
   "execution_count": 19,
   "id": "badfa03d",
   "metadata": {
    "scrolled": true
   },
   "outputs": [
    {
     "name": "stdout",
     "output_type": "stream",
     "text": [
      "Estadística de Anderson-Darling: 25.019321379446126\n",
      "Valor p: 0.002\n",
      "La prueba sugiere que los datos no siguen una distribución uniforme.\n"
     ]
    }
   ],
   "source": [
    "# Ejemplo de uso\n",
    "np.random.seed(42) # Establece una semilla para reproducibilidad de los resultados\n",
    "data =u(3,(2**31)-1,7**5,2**32,10) # Generar una muestra de 100 números aleator\n",
    "# Realizar la prueba de Anderson-Darling\n",
    "A2, p_value = anderson_darling_uniform_test(data)\n",
    "# Mostrar los resultados\n",
    "print(f'Estadística de Anderson-Darling: {A2}')\n",
    "print(f'Valor p: {p_value}')\n",
    "# Evaluar el resultado basándose en un nivel de significancia del 5%\n",
    "alpha = 0.05\n",
    "if p_value < alpha:\n",
    " print('La prueba sugiere que los datos no siguen una distribución uniforme.')\n",
    "else:\n",
    " print('La prueba sugiere que los datos siguen una distribución uniforme.')"
   ]
  },
  {
   "cell_type": "markdown",
   "id": "09e9107b",
   "metadata": {},
   "source": [
    "# Ejercicio 2"
   ]
  },
  {
   "cell_type": "code",
   "execution_count": 3,
   "id": "0d8cbc24",
   "metadata": {},
   "outputs": [
    {
     "name": "stdout",
     "output_type": "stream",
     "text": [
      "la probabilidad es: 0.4 y corresponde a p 4\n"
     ]
    }
   ],
   "source": [
    "import numpy as np\n",
    "u=np.random.random()\n",
    "p1=0.2\n",
    "p2=0.15\n",
    "p3=0.25\n",
    "p4=0.4\n",
    "if u<p1:\n",
    "    xi=p1\n",
    "    p=1\n",
    "elif u>=p1 and u<(p1+p2):\n",
    "    xi=p2\n",
    "    p=2\n",
    "elif u>=(p1+p2) and u<(p2+p3):\n",
    "    xi=p3\n",
    "    p=3\n",
    "elif u>=(p2+p3) and u<(p3+p4):\n",
    "    xi=p4\n",
    "    p=4\n",
    "print(\"la probabilidad es:\",xi,\"y corresponde a p\",p)"
   ]
  },
  {
   "cell_type": "code",
   "execution_count": 30,
   "id": "653f619a",
   "metadata": {},
   "outputs": [
    {
     "data": {
      "text/plain": [
       "2"
      ]
     },
     "execution_count": 30,
     "metadata": {},
     "output_type": "execute_result"
    }
   ],
   "source": [
    "import numpy as np\n",
    "\n",
    "u = np.random.random()\n",
    "p = [0, 0.2, 0.15, 0.25, 0.4]  # Probabilidades\n",
    "\n",
    "\n",
    "# Convertir las probabilidades en una lista de probabilidades acumuladas\n",
    "p_acumulada = np.cumsum(p)\n",
    "\n",
    "# Encontrar el valor de `i` correspondiente al valor aleatorio `u`\n",
    "for i in range(1, len(p_acumulada)):\n",
    "    if p_acumulada[i-1] <= u < p_acumulada[i]:\n",
    "        x = i\n",
    "        break"
   ]
  },
  {
   "cell_type": "code",
   "execution_count": 35,
   "id": "edf2acd7",
   "metadata": {},
   "outputs": [],
   "source": [
    "def ejercicio2(n):\n",
    "    lista = []\n",
    "    for a in range(n):\n",
    "        u = np.random.random()\n",
    "        p = [0, 0.2, 0.15, 0.25, 0.4]  \n",
    "        p_acumulada = np.cumsum(p)\n",
    "        for i in range(1, len(p_acumulada)):\n",
    "            if p_acumulada[i-1] <= u < p_acumulada[i]:\n",
    "                x = i\n",
    "                break\n",
    "        lista.append(x)\n",
    "    return np.array(lista)"
   ]
  },
  {
   "cell_type": "code",
   "execution_count": 39,
   "id": "e7d83e9e",
   "metadata": {},
   "outputs": [
    {
     "data": {
      "text/plain": [
       "array([3, 2, 4, 3, 4, 4, 4, 1, 1, 4])"
      ]
     },
     "execution_count": 39,
     "metadata": {},
     "output_type": "execute_result"
    }
   ],
   "source": [
    "ejercicio2(10)"
   ]
  },
  {
   "cell_type": "markdown",
   "id": "f1cada61",
   "metadata": {},
   "source": [
    "# Ejercicio 3"
   ]
  },
  {
   "cell_type": "markdown",
   "id": "3c49eeeb",
   "metadata": {},
   "source": [
    "## uniforme discreta"
   ]
  },
  {
   "cell_type": "code",
   "execution_count": 60,
   "id": "320c1f71",
   "metadata": {},
   "outputs": [
    {
     "name": "stdout",
     "output_type": "stream",
     "text": [
      "5\n"
     ]
    }
   ],
   "source": [
    "u = np.random.random()\n",
    "n = 8\n",
    "\n",
    "for i in range(1, n):\n",
    "    if u >= (i-1)/n and u <= i/n:\n",
    "        break\n",
    "x = i\n",
    "\n",
    "print(x)\n"
   ]
  },
  {
   "cell_type": "code",
   "execution_count": 77,
   "id": "0eecae5b",
   "metadata": {},
   "outputs": [],
   "source": [
    "def ejercicio3ud(m,n1):\n",
    "    lista = []\n",
    "    n=n1\n",
    "    for a in range(m):\n",
    "        u = np.random.random()\n",
    "        for i in range(1, n):\n",
    "            if u >= (i-1)/n and u <= i/n:\n",
    "                break\n",
    "        x=i\n",
    "        lista.append(x)\n",
    "    return np.array(lista)"
   ]
  },
  {
   "cell_type": "code",
   "execution_count": 78,
   "id": "82844de2",
   "metadata": {},
   "outputs": [
    {
     "data": {
      "text/plain": [
       "array([6, 5, 2, 4, 5, 7, 7, 5, 2, 2])"
      ]
     },
     "execution_count": 78,
     "metadata": {},
     "output_type": "execute_result"
    }
   ],
   "source": [
    "# (m,n1) m es el numero de simulaciones y n1 es el numero de fracciones\n",
    "ejercicio3ud(10,8)"
   ]
  },
  {
   "cell_type": "markdown",
   "id": "78d02daf",
   "metadata": {},
   "source": [
    "## con X=[k*u]+1"
   ]
  },
  {
   "cell_type": "code",
   "execution_count": 79,
   "id": "d2d2ddc3",
   "metadata": {},
   "outputs": [],
   "source": [
    "k=10\n",
    "u=np.random.random()\n",
    "x=int(k*u)+1"
   ]
  },
  {
   "cell_type": "code",
   "execution_count": 80,
   "id": "7be46904",
   "metadata": {},
   "outputs": [],
   "source": [
    "def ejercicio3ud(n,k):\n",
    "    lista = []\n",
    "    for i in range(1,n):\n",
    "        u=np.random.random()\n",
    "        x=int(k*u)+1\n",
    "        lista.append(x)\n",
    "    return np.array(lista)"
   ]
  },
  {
   "cell_type": "code",
   "execution_count": 81,
   "id": "94a8b34f",
   "metadata": {},
   "outputs": [
    {
     "data": {
      "text/plain": [
       "array([6, 3, 8, 8, 6, 3, 3, 8, 4])"
      ]
     },
     "execution_count": 81,
     "metadata": {},
     "output_type": "execute_result"
    }
   ],
   "source": [
    "#ejercicio3ud(n,k) n es simulaciones \n",
    "ejercicio3ud(10,8)"
   ]
  },
  {
   "cell_type": "markdown",
   "id": "8d1f3e70",
   "metadata": {},
   "source": [
    "## Geometric"
   ]
  },
  {
   "cell_type": "code",
   "execution_count": 82,
   "id": "b9bfa3a0",
   "metadata": {},
   "outputs": [
    {
     "data": {
      "text/plain": [
       "1.775585722034701"
      ]
     },
     "execution_count": 82,
     "metadata": {},
     "output_type": "execute_result"
    }
   ],
   "source": [
    "u = np.random.random()\n",
    "p=1/4\n",
    "q=1-p\n",
    "x=((np.log(u))/(np.log(q)))+1 # aca tenia mis duda con el ln ya que unos usa np.log10() y otros solo np.log()\n",
    "x"
   ]
  },
  {
   "cell_type": "code",
   "execution_count": 83,
   "id": "1d6ae981",
   "metadata": {},
   "outputs": [],
   "source": [
    "def ejercicio3g(n,p):\n",
    "    lista = []\n",
    "    for i in range(1,n):\n",
    "        u = np.random.random()\n",
    "        q=1-p\n",
    "        x=((np.log(u))/(np.log(q)))+1 # aca tenia mis duda con el ln ya que unos usa np.log10() y otros solo np.log()\n",
    "        lista.append(x)\n",
    "    return np.array(lista)"
   ]
  },
  {
   "cell_type": "code",
   "execution_count": 87,
   "id": "0ea64f99",
   "metadata": {},
   "outputs": [
    {
     "data": {
      "text/plain": [
       "array([8.19216496, 2.12678237, 9.79001671, 5.70085916, 4.5489918 ,\n",
       "       7.44064513, 6.87495879, 2.24516238, 9.15424018])"
      ]
     },
     "execution_count": 87,
     "metadata": {},
     "output_type": "execute_result"
    }
   ],
   "source": [
    "#ejercicio3g(n,p) n simulaciones y p es para la probabilidad\n",
    "ejercicio3g(10,1/4)"
   ]
  },
  {
   "cell_type": "code",
   "execution_count": null,
   "id": "3d470ccc",
   "metadata": {},
   "outputs": [],
   "source": []
  }
 ],
 "metadata": {
  "kernelspec": {
   "display_name": "Python 3 (ipykernel)",
   "language": "python",
   "name": "python3"
  },
  "language_info": {
   "codemirror_mode": {
    "name": "ipython",
    "version": 3
   },
   "file_extension": ".py",
   "mimetype": "text/x-python",
   "name": "python",
   "nbconvert_exporter": "python",
   "pygments_lexer": "ipython3",
   "version": "3.11.4"
  }
 },
 "nbformat": 4,
 "nbformat_minor": 5
}
