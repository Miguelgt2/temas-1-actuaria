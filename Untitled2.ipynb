{
 "cells": [
  {
   "cell_type": "code",
   "execution_count": 1,
   "id": "e28bbdd4",
   "metadata": {},
   "outputs": [],
   "source": [
    "#Función exponencial\n",
    "import math\n",
    "import numpy as np\n",
    "\n",
    "def exp(n,l):\n",
    "    lista = []\n",
    "    for a in range(n):\n",
    "        u = np.random.random() \n",
    "        x=-((1/l)*np.log(u))\n",
    "        lista.append(x)\n",
    "    return np.array(lista)"
   ]
  },
  {
   "cell_type": "code",
   "execution_count": 2,
   "id": "252a2bcc",
   "metadata": {},
   "outputs": [],
   "source": [
    "import numpy as np\n",
    "\n",
    "def rmarkovchain(lam, pi, tiempo_maximo):  # Modificado para usar tiempo máximo en lugar de m fijo\n",
    "    P = np.array([\n",
    "        [0.1, 0.2, 0.15, 0.05, 0.1, 0.1, 0.3],\n",
    "        [0.25, 0.1, 0.05, 0.1, 0.15, 0.2, 0.15],\n",
    "        [0.2, 0.2, 0.1, 0.1, 0.1, 0.1, 0.2],\n",
    "        [0.05, 0.1, 0.15, 0.25, 0.2, 0.1, 0.15],\n",
    "        [0.3, 0.1, 0.05, 0.2, 0.1, 0.15, 0.1],\n",
    "        [0.2, 0.1, 0.2, 0.15, 0.1, 0.05, 0.2],\n",
    "        [0.1, 0.3, 0.2, 0.05, 0.1, 0.1, 0.15]\n",
    "    ])\n",
    "    states = [0, 1, 2, 3, 4, 5, 6]\n",
    "    x = [np.random.choice(states, p=pi, size=1)[0]]\n",
    "    lista = []\n",
    "    acum = []\n",
    "    t1 = 0\n",
    "    while t1 < tiempo_maximo:\n",
    "        t = 50*exp(10, lam).mean()  # Usa la función exp previamente definida\n",
    "        lista.append(t)\n",
    "        t1 += t  # Acumulamos los tiempos\n",
    "        acum.append(t1)\n",
    "        if t1 < tiempo_maximo:  # Solo cambia de estado si aún no ha alcanzado el tiempo máximo\n",
    "            estado_actual = x[-1]\n",
    "            next_estado = np.random.choice(states, p=P[estado_actual])\n",
    "            x.append(next_estado)\n",
    "        else:\n",
    "            break  # Sal del bucle si el tiempo acumulado excede el tiempo máximo\n",
    "\n",
    "    return np.array(x), np.array(lista), np.array(acum)\n"
   ]
  },
  {
   "cell_type": "code",
   "execution_count": null,
   "id": "9da5e87c",
   "metadata": {},
   "outputs": [],
   "source": [
    "def EYS(T,LE,LS,n):\n",
    "    t=0\n",
    "    Na=0\n",
    "    Nd=0\n",
    "    Es=0 \n",
    "    Ta=exp(n,LE)\n",
    "    "
   ]
  },
  {
   "cell_type": "code",
   "execution_count": null,
   "id": "9d41b2b1",
   "metadata": {},
   "outputs": [],
   "source": []
  }
 ],
 "metadata": {
  "kernelspec": {
   "display_name": "Python 3 (ipykernel)",
   "language": "python",
   "name": "python3"
  },
  "language_info": {
   "codemirror_mode": {
    "name": "ipython",
    "version": 3
   },
   "file_extension": ".py",
   "mimetype": "text/x-python",
   "name": "python",
   "nbconvert_exporter": "python",
   "pygments_lexer": "ipython3",
   "version": "3.11.4"
  }
 },
 "nbformat": 4,
 "nbformat_minor": 5
}
