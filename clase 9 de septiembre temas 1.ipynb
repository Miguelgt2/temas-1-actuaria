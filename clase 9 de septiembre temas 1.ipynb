{
 "cells": [
  {
   "cell_type": "code",
   "execution_count": 3,
   "id": "7315dcfa",
   "metadata": {},
   "outputs": [],
   "source": [
    "import numpy as np\n",
    "\n",
    "\n",
    "def validacion3(n):\n",
    "    contador = []  \n",
    "    for j in range(n):  \n",
    "        i = 0  \n",
    "        bandera = 1   \n",
    "        while bandera == 1:  \n",
    "            u1 = np.random.random()  \n",
    "            y = -((1/1) * np.log(u1))  \n",
    "            u2 = np.random.random()  \n",
    "            i += 1  \n",
    "            x1 = ((y-1)**2)/2  \n",
    "            if -np.log(u2) >= x1:\n",
    "                x = u1  \n",
    "                bandera = 0  \n",
    "                contador.append(i)  \n",
    "    return np.array(contador)  "
   ]
  },
  {
   "cell_type": "code",
   "execution_count": 5,
   "id": "cd0828ac",
   "metadata": {},
   "outputs": [
    {
     "data": {
      "text/plain": [
       "1.314"
      ]
     },
     "execution_count": 5,
     "metadata": {},
     "output_type": "execute_result"
    }
   ],
   "source": [
    "validacion3(10000).mean()"
   ]
  },
  {
   "cell_type": "markdown",
   "id": "aaaafce4",
   "metadata": {},
   "source": [
    "# ejemplo profe"
   ]
  },
  {
   "cell_type": "code",
   "execution_count": 17,
   "id": "ea90f14b",
   "metadata": {},
   "outputs": [],
   "source": [
    "def rnormalstd(n):\n",
    "    lista=[]\n",
    "    for _ in range(n):\n",
    "\n",
    "        u1 = np.random.random()\n",
    "        u2 = np.random.random()\n",
    "        y1=-np.log(u1)\n",
    "        y2=-np.log(u2)\n",
    "        while(y2<((y1-1)**2)/2):\n",
    "            u1 = np.random.random()\n",
    "            u2 = np.random.random()\n",
    "            y1=-np.log(u1)\n",
    "            y2=-np.log(u2)\n",
    "        if np.random.random()<0.5:\n",
    "            lista.append(y1)\n",
    "        else:\n",
    "            lista.append(-y1)\n",
    "    return np.array(lista)"
   ]
  },
  {
   "cell_type": "code",
   "execution_count": 25,
   "id": "90356433",
   "metadata": {},
   "outputs": [
    {
     "data": {
      "image/png": "[encoded data removed]",
      "text/plain": [
       "<Figure size 640x480 with 1 Axes>"
      ]
     },
     "metadata": {},
     "output_type": "display_data"
    }
   ],
   "source": [
    "import matplotlib.pyplot as plt\n",
    "plt.hist(rnormalstd(100000), bins=50)\n",
    "plt.show()\n"
   ]
  },
  {
   "cell_type": "code",
   "execution_count": null,
   "id": "e74fc668",
   "metadata": {},
   "outputs": [],
   "source": []
  }
 ],
 "metadata": {
  "kernelspec": {
   "display_name": "Python 3 (ipykernel)",
   "language": "python",
   "name": "python3"
  },
  "language_info": {
   "codemirror_mode": {
    "name": "ipython",
    "version": 3
   },
   "file_extension": ".py",
   "mimetype": "text/x-python",
   "name": "python",
   "nbconvert_exporter": "python",
   "pygments_lexer": "ipython3",
   "version": "3.11.4"
  }
 },
 "nbformat": 4,
 "nbformat_minor": 5
}
