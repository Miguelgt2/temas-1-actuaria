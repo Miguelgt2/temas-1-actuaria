{
 "cells": [
  {
   "cell_type": "markdown",
   "id": "0c0b550c",
   "metadata": {},
   "source": [
    " # Ejercicio 4"
   ]
  },
  {
   "cell_type": "markdown",
   "id": "85c26483",
   "metadata": {},
   "source": [
    "## Describir un algoritmo para generar la distribuci´on Binomial utilizando el algoritmo de transformada inversa de la distribución Bernoulli.\n"
   ]
  },
  {
   "cell_type": "markdown",
   "id": "d7ee758b",
   "metadata": {},
   "source": [
    "### Determinación de \\( x \\)\n",
    "\n",
    "La expresión \\( u = p^x \\c  (1-p)^{1-x} \\) puede ser utilizada de la siguiente manera para determinar \\( x \\):\n",
    "\n",
    "1. Si \\( u <= 1-p \\), entonces \\( x = 0 \\).\n",
    "2. Si \\( u > 1-p \\), entonces \\( x = 1 \\).\n",
    "\n",
    "### Expresando \\( x \\) en términos de \\( u \\)\n",
    "\n",
    "Finalmente, para resolver para \\( x \\) dado \\( u \\):\n",
    "\n",
    "\\[\n",
    "x = \\begin{cases} \n",
    "0 & \\text{si } u \\leq 1-p \\\\\n",
    "1 & \\text{si } u > 1-p \n",
    "\\end{cases}\n",
    "\\]\n",
    "\n",
    "Esto indica que:\n",
    "\n",
    "- Si \\( u <= 1-p \\), el valor de \\( x \\) es 0 (fracaso).\n",
    "- Si \\( u > 1-p \\), el valor de \\( x \\) es 1 (éxito).\n"
   ]
  },
  {
   "cell_type": "code",
   "execution_count": 1,
   "id": "065e501d",
   "metadata": {},
   "outputs": [],
   "source": [
    "import numpy as np"
   ]
  },
  {
   "cell_type": "code",
   "execution_count": 2,
   "id": "93ac1eba",
   "metadata": {},
   "outputs": [],
   "source": [
    "def binomial(m,n,p):\n",
    "    lista=[]\n",
    "    for j in range(m):\n",
    "        x=0\n",
    "        for i in range(n):\n",
    "            u=np.random.random()\n",
    "            if u>(1-p):\n",
    "                x=x+1\n",
    "        lista.append(x)\n",
    "    return np.array(lista)\n",
    "    "
   ]
  },
  {
   "cell_type": "code",
   "execution_count": 3,
   "id": "a76ab58f",
   "metadata": {},
   "outputs": [
    {
     "data": {
      "text/plain": [
       "65.7"
      ]
     },
     "execution_count": 3,
     "metadata": {},
     "output_type": "execute_result"
    }
   ],
   "source": [
    "binomial(10,100,2/3).mean()"
   ]
  },
  {
   "cell_type": "markdown",
   "id": "0f809bab",
   "metadata": {},
   "source": [
    "# Ejercicio 5"
   ]
  },
  {
   "cell_type": "markdown",
   "id": "4be25d14",
   "metadata": {},
   "source": [
    "si la geometrica son los ensayos hasta el priner exito"
   ]
  },
  {
   "cell_type": "markdown",
   "id": "df3312df",
   "metadata": {},
   "source": [
    "y la binomial negativas es hasta r numero de exitos "
   ]
  },
  {
   "cell_type": "code",
   "execution_count": 14,
   "id": "a59c1edb",
   "metadata": {},
   "outputs": [],
   "source": [
    "def bn(n,r,p):\n",
    "    lista = []\n",
    "    for j in range(n):\n",
    "        bandera=1\n",
    "        e=0\n",
    "        en=0\n",
    "        while (bandera==1):\n",
    "            u = np.random.random()\n",
    "            q=1-p\n",
    "            x=((np.log(u))/(np.log(q)))+1\n",
    "            en=en+x\n",
    "            e=e+1\n",
    "            if(e==r):\n",
    "                bandera=0\n",
    "                lista.append(en)\n",
    "    return np.array(lista)"
   ]
  },
  {
   "cell_type": "code",
   "execution_count": 17,
   "id": "09444cb7",
   "metadata": {},
   "outputs": [
    {
     "data": {
      "text/plain": [
       "array([25.48383247, 19.34735195, 28.66712   , 34.94604637, 13.1007539 ,\n",
       "       29.48163624, 24.32475897, 26.17024489, 29.59459515, 21.97400876])"
      ]
     },
     "execution_count": 17,
     "metadata": {},
     "output_type": "execute_result"
    }
   ],
   "source": [
    "bn(10,5,1/4)"
   ]
  },
  {
   "cell_type": "markdown",
   "id": "3dd95b85",
   "metadata": {},
   "source": [
    "# b)"
   ]
  },
  {
   "cell_type": "code",
   "execution_count": 20,
   "id": "bff71b0c",
   "metadata": {},
   "outputs": [],
   "source": [
    "def bnb(n,r,p):\n",
    "    lista = []\n",
    "    for j in range(n):\n",
    "        pi = (1-p)**r  # Inicialización de p_0\n",
    "        u = np.random.random()\n",
    "        i=0\n",
    "        acumulado=pi\n",
    "        while u>acumulado:\n",
    "            i = i+1\n",
    "            pi = ((i*(i-p))/(i+1-r))*pi\n",
    "            acumulado=acumulado+pi\n",
    "        lista.eppend(acumulado)\n",
    "    return np.array(lista)\n",
    "            \n",
    "            \n",
    "            "
   ]
  },
  {
   "cell_type": "code",
   "execution_count": 21,
   "id": "ccc06b8b",
   "metadata": {},
   "outputs": [
    {
     "ename": "ZeroDivisionError",
     "evalue": "float division by zero",
     "output_type": "error",
     "traceback": [
      "\u001b[1;31m---------------------------------------------------------------------------\u001b[0m",
      "\u001b[1;31mZeroDivisionError\u001b[0m                         Traceback (most recent call last)",
      "Cell \u001b[1;32mIn[21], line 1\u001b[0m\n\u001b[1;32m----> 1\u001b[0m bnb(\u001b[38;5;241m10\u001b[39m,\u001b[38;5;241m3\u001b[39m,\u001b[38;5;241m1\u001b[39m\u001b[38;5;241m/\u001b[39m\u001b[38;5;241m2\u001b[39m)\n",
      "Cell \u001b[1;32mIn[20], line 10\u001b[0m, in \u001b[0;36mbnb\u001b[1;34m(n, r, p)\u001b[0m\n\u001b[0;32m      8\u001b[0m \u001b[38;5;28;01mwhile\u001b[39;00m u\u001b[38;5;241m>\u001b[39macumulado:\n\u001b[0;32m      9\u001b[0m     i \u001b[38;5;241m=\u001b[39m i\u001b[38;5;241m+\u001b[39m\u001b[38;5;241m1\u001b[39m\n\u001b[1;32m---> 10\u001b[0m     pi \u001b[38;5;241m=\u001b[39m ((i\u001b[38;5;241m*\u001b[39m(i\u001b[38;5;241m-\u001b[39mp))\u001b[38;5;241m/\u001b[39m(i\u001b[38;5;241m+\u001b[39m\u001b[38;5;241m1\u001b[39m\u001b[38;5;241m-\u001b[39mr))\u001b[38;5;241m*\u001b[39mpi\n\u001b[0;32m     11\u001b[0m     acumulado\u001b[38;5;241m=\u001b[39macumulado\u001b[38;5;241m+\u001b[39mpi\n\u001b[0;32m     12\u001b[0m lista\u001b[38;5;241m.\u001b[39meppend(acumulado)\n",
      "\u001b[1;31mZeroDivisionError\u001b[0m: float division by zero"
     ]
    }
   ],
   "source": [
    "bnb(10,3,1/2)"
   ]
  },
  {
   "cell_type": "markdown",
   "id": "2da4b818",
   "metadata": {},
   "source": [
    "# Ejercicio 7"
   ]
  },
  {
   "cell_type": "code",
   "execution_count": 3,
   "id": "349ad7ee",
   "metadata": {},
   "outputs": [],
   "source": [
    "import math\n",
    "import numpy as np"
   ]
  },
  {
   "cell_type": "markdown",
   "id": "9cf2ce5e",
   "metadata": {},
   "source": [
    "# gamma(3/2,3)"
   ]
  },
  {
   "cell_type": "markdown",
   "id": "eb03a92a",
   "metadata": {},
   "source": [
    "$$\n",
    "f\\left(x\\right)=\\frac{3\\sqrt{3x}}{\\sqrt{\\pi }\\cdot e^{3x}}\n",
    "$$"
   ]
  },
  {
   "cell_type": "markdown",
   "id": "1559f328",
   "metadata": {},
   "source": [
    "$$\n",
    "g\\left(x\\right)=\\frac{2}{e^{2x}}\n",
    "$$"
   ]
  },
  {
   "cell_type": "markdown",
   "id": "90efa2e0",
   "metadata": {},
   "source": [
    "$$\n",
    "\\frac{f\\left(x\\right)}{g\\left(x\\right)}=\\frac{3\\sqrt{3x}}{\\sqrt{\\pi }\\cdot e^x}\n",
    "$$"
   ]
  },
  {
   "cell_type": "markdown",
   "id": "e648aed8",
   "metadata": {},
   "source": [
    "$$ c=1/2$$"
   ]
  },
  {
   "cell_type": "markdown",
   "id": "236ed2e8",
   "metadata": {},
   "source": [
    "$$\n",
    "\\frac{f\\left(x\\right)}{g\\left(x\\right)}=\\frac{6\\sqrt{3x}}{\\sqrt{\\pi }\\cdot e^x}\n",
    "$$"
   ]
  },
  {
   "cell_type": "code",
   "execution_count": 13,
   "id": "4bbab7f7",
   "metadata": {},
   "outputs": [],
   "source": [
    "def validacion2(n):\n",
    "    c=1/2\n",
    "    contador =[] # se guardan las iteraciones\n",
    "    for j in range(n):\n",
    "        i=0\n",
    "        bandera=1\n",
    "        while (bandera==1):\n",
    "            u1=np.random.random()\n",
    "            y=-((1/2)*(np.log(u1)))\n",
    "            u2=np.random.random()\n",
    "            i=i+1\n",
    "            x1= (6*((3*y)**(1/2)))/(((np.pi)**(1/2))*(np.exp(y)))\n",
    "            if(u2<x1):\n",
    "                x=u1\n",
    "                bandera=0\n",
    "                contador.append(i)\n",
    "    return np.array(contador)"
   ]
  },
  {
   "cell_type": "code",
   "execution_count": 14,
   "id": "48a62377",
   "metadata": {},
   "outputs": [
    {
     "data": {
      "text/plain": [
       "1.0231"
      ]
     },
     "execution_count": 14,
     "metadata": {},
     "output_type": "execute_result"
    }
   ],
   "source": [
    "validacion2(10000).mean()"
   ]
  },
  {
   "cell_type": "code",
   "execution_count": 11,
   "id": "b58579f7",
   "metadata": {},
   "outputs": [
    {
     "data": {
      "text/plain": [
       "1.0242"
      ]
     },
     "execution_count": 11,
     "metadata": {},
     "output_type": "execute_result"
    }
   ],
   "source": [
    "validacion2(10000).mean()"
   ]
  },
  {
   "cell_type": "markdown",
   "id": "baba37c7",
   "metadata": {},
   "source": [
    "# gamma(1/2,6)"
   ]
  },
  {
   "cell_type": "markdown",
   "id": "87425f34",
   "metadata": {},
   "source": [
    "$$\n",
    "f\\left(x\\right)=\\frac{6}{\\sqrt{6\\cdot \\pi \\cdot x}\\cdot \\:e^{6x}}\n",
    "$$"
   ]
  },
  {
   "cell_type": "markdown",
   "id": "1522f233",
   "metadata": {},
   "source": [
    "$$\n",
    "g\\left(x\\right)=\\frac{12}{e^{12x}}\n",
    "$$"
   ]
  },
  {
   "cell_type": "markdown",
   "id": "753999e0",
   "metadata": {},
   "source": [
    "$$\n",
    "\\frac{f\\left(x\\right)}{g\\left(x\\right)}=\\frac{e^{6x}}{2\\cdot \\:\\:\\sqrt{6\\cdot \\pi \\cdot x}}\n",
    "$$"
   ]
  },
  {
   "cell_type": "markdown",
   "id": "3b39b9de",
   "metadata": {},
   "source": [
    "$$\n",
    "\\frac{f\\left(x\\right)}{cg\\left(x\\right)}=\\frac{6e^{6x}}{\\sqrt{6\\pi x}}\n",
    "$$"
   ]
  },
  {
   "cell_type": "markdown",
   "id": "a576f0c0",
   "metadata": {},
   "source": [
    "$$ c=1/12 $$"
   ]
  },
  {
   "cell_type": "code",
   "execution_count": 20,
   "id": "2216e6dd",
   "metadata": {},
   "outputs": [],
   "source": [
    "def validacion3(n):\n",
    "    c=1/12\n",
    "    contador =[] # se guardan las iteraciones\n",
    "    for j in range(n):\n",
    "        i=0\n",
    "        bandera=1\n",
    "        while (bandera==1):\n",
    "            u1=np.random.random()\n",
    "            y=-((1/12)*(np.log(u1)))\n",
    "            u2=np.random.random()\n",
    "            i=i+1\n",
    "            x1= (6*(np.exp(6*y)))/(((np.pi)*6*y)**(1/2))\n",
    "            if(u2<x1):\n",
    "                x=u1\n",
    "                bandera=0\n",
    "                contador.append(i)\n",
    "    return np.array(contador)"
   ]
  },
  {
   "cell_type": "code",
   "execution_count": 21,
   "id": "d55efa88",
   "metadata": {},
   "outputs": [
    {
     "data": {
      "text/plain": [
       "1.0"
      ]
     },
     "execution_count": 21,
     "metadata": {},
     "output_type": "execute_result"
    }
   ],
   "source": [
    "validacion3(1000).mean()"
   ]
  },
  {
   "cell_type": "markdown",
   "id": "2be709a5",
   "metadata": {},
   "source": [
    "# exp(9)"
   ]
  },
  {
   "cell_type": "markdown",
   "id": "c56fd9ae",
   "metadata": {},
   "source": [
    "# A Y R\n"
   ]
  },
  {
   "cell_type": "code",
   "execution_count": 22,
   "id": "15aa7eac",
   "metadata": {},
   "outputs": [],
   "source": [
    "def validacion4(n):\n",
    "    c=9\n",
    "    contador =[] # se guardan las iteraciones\n",
    "    for j in range(n):\n",
    "        i=0\n",
    "        bandera=1\n",
    "        while (bandera==1):\n",
    "            u1=np.random.random()\n",
    "            y=-((1/9)*(np.log(u1)))\n",
    "            u2=np.random.random()\n",
    "            i=i+1\n",
    "            x1= (np.exp(8*y))/(8.53*(y**(8/9)))\n",
    "            if(u2<x1):\n",
    "                x=u1\n",
    "                bandera=0\n",
    "                contador.append(i)\n",
    "    return np.array(contador)"
   ]
  },
  {
   "cell_type": "code",
   "execution_count": 23,
   "id": "c6217855",
   "metadata": {},
   "outputs": [
    {
     "data": {
      "text/plain": [
       "1.0"
      ]
     },
     "execution_count": 23,
     "metadata": {},
     "output_type": "execute_result"
    }
   ],
   "source": [
    "validacion4(1000).mean()"
   ]
  },
  {
   "cell_type": "markdown",
   "id": "1291d050",
   "metadata": {},
   "source": [
    "# Inversa"
   ]
  },
  {
   "cell_type": "code",
   "execution_count": 121,
   "id": "404124f8",
   "metadata": {},
   "outputs": [],
   "source": [
    "def exp(n):\n",
    "    lista = []\n",
    "    for a in range(n):\n",
    "        u = np.random.random() \n",
    "        x=-((1/9)*np.log(1-u))\n",
    "        lista.append(x)\n",
    "    return np.array(lista)"
   ]
  },
  {
   "cell_type": "code",
   "execution_count": 122,
   "id": "c7c451d2",
   "metadata": {},
   "outputs": [
    {
     "data": {
      "text/plain": [
       "0.11066093652887772"
      ]
     },
     "execution_count": 122,
     "metadata": {},
     "output_type": "execute_result"
    }
   ],
   "source": [
    "exp(1000).mean()"
   ]
  },
  {
   "cell_type": "code",
   "execution_count": null,
   "id": "75b94947",
   "metadata": {},
   "outputs": [],
   "source": []
  }
 ],
 "metadata": {
  "kernelspec": {
   "display_name": "Python 3 (ipykernel)",
   "language": "python",
   "name": "python3"
  },
  "language_info": {
   "codemirror_mode": {
    "name": "ipython",
    "version": 3
   },
   "file_extension": ".py",
   "mimetype": "text/x-python",
   "name": "python",
   "nbconvert_exporter": "python",
   "pygments_lexer": "ipython3",
   "version": "3.11.4"
  }
 },
 "nbformat": 4,
 "nbformat_minor": 5
}
