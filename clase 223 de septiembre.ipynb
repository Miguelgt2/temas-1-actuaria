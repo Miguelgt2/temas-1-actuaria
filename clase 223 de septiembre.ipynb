{
 "cells": [
  {
   "cell_type": "code",
   "execution_count": 1,
   "id": "a4e1cac1",
   "metadata": {},
   "outputs": [],
   "source": [
    "import numpy as np\n",
    "import matplotlib.pyplot as plt"
   ]
  },
  {
   "cell_type": "code",
   "execution_count": 6,
   "id": "f5ea81da",
   "metadata": {},
   "outputs": [],
   "source": [
    "#simulacion x0\n",
    "pi=[0.5,0.5]\n",
    "states=[0,1]\n",
    "x0= np.random.choice(states,p=pi,size=1) #simulamos xo usando pi"
   ]
  },
  {
   "cell_type": "code",
   "execution_count": 16,
   "id": "c4343b05",
   "metadata": {},
   "outputs": [
    {
     "data": {
      "text/plain": [
       "array([[0.7, 0.3],\n",
       "       [0.4, 0.6]])"
      ]
     },
     "execution_count": 16,
     "metadata": {},
     "output_type": "execute_result"
    }
   ],
   "source": [
    "a=0.3\n",
    "b=0.4\n",
    "p=np.array([[1-a,a],[b,1-b]])\n",
    "p\n"
   ]
  },
  {
   "cell_type": "code",
   "execution_count": 18,
   "id": "ada811d3",
   "metadata": {},
   "outputs": [
    {
     "data": {
      "text/plain": [
       "array([1])"
      ]
     },
     "execution_count": 18,
     "metadata": {},
     "output_type": "execute_result"
    }
   ],
   "source": [
    "x0"
   ]
  },
  {
   "cell_type": "code",
   "execution_count": 22,
   "id": "cd7825ec",
   "metadata": {},
   "outputs": [
    {
     "data": {
      "text/plain": [
       "0"
      ]
     },
     "execution_count": 22,
     "metadata": {},
     "output_type": "execute_result"
    }
   ],
   "source": [
    "x1=np.random.choice(states,p=p[x0[0]])\n",
    "x1"
   ]
  },
  {
   "cell_type": "code",
   "execution_count": null,
   "id": "02531d6c",
   "metadata": {},
   "outputs": [],
   "source": [
    "x2=np.random.choice(states,p=p[x1])\n",
    "x2"
   ]
  },
  {
   "cell_type": "code",
   "execution_count": 23,
   "id": "4776096b",
   "metadata": {},
   "outputs": [
    {
     "ename": "SyntaxError",
     "evalue": "incomplete input (2803761250.py, line 1)",
     "output_type": "error",
     "traceback": [
      "\u001b[1;36m  Cell \u001b[1;32mIn[23], line 1\u001b[1;36m\u001b[0m\n\u001b[1;33m    for i in 1000:\u001b[0m\n\u001b[1;37m                  ^\u001b[0m\n\u001b[1;31mSyntaxError\u001b[0m\u001b[1;31m:\u001b[0m incomplete input\n"
     ]
    }
   ],
   "source": [
    "i=0\n",
    "\n",
    "for i in 1000:\n",
    "    x[i]=np.random.choice(states,p=p[x[i]])"
   ]
  },
  {
   "cell_type": "code",
   "execution_count": 28,
   "id": "79b8c792",
   "metadata": {},
   "outputs": [],
   "source": [
    "pi=[0.5,0.5]\n",
    "states=[0,1]\n",
    "x=[np.random.choice(states,p=pi,size=1)[0]]\n",
    "m=1000\n",
    "for i in range(1,m):\n",
    "    estado_actual=x[-1]\n",
    "    next_estado=np.random.choice(states,p=p[estado_actual])\n",
    "    x.append(next_estado)"
   ]
  },
  {
   "cell_type": "code",
   "execution_count": 36,
   "id": "9151e5ef",
   "metadata": {},
   "outputs": [],
   "source": [
    "def rmarkovchain(a,b,pi,m):\n",
    "    p=np.array([[1-a,a],[b,1-b]])\n",
    "    states=[0,1]\n",
    "    x=[np.random.choice(states,p=pi,size=1)[0]]\n",
    "    for i in range(1,m):\n",
    "        estado_actual=x[-1]\n",
    "        next_estado=np.random.choice(states,p=p[estado_actual])\n",
    "        x.append(next_estado)\n",
    "    return np.array(x)\n",
    "    "
   ]
  },
  {
   "cell_type": "code",
   "execution_count": 37,
   "id": "4509714e",
   "metadata": {},
   "outputs": [
    {
     "data": {
      "image/png": "[encoded data removed]",
      "text/plain": [
       "<Figure size 640x480 with 1 Axes>"
      ]
     },
     "metadata": {},
     "output_type": "display_data"
    }
   ],
   "source": [
    "x=rmarkovchain(0.5,0.3,[0.4,0.6],100)\n",
    "n=np.arange(0,100)\n",
    "plt.scatter(n,x)\n",
    "plt.show()"
   ]
  },
  {
   "cell_type": "code",
   "execution_count": 41,
   "id": "6e61b91e",
   "metadata": {},
   "outputs": [],
   "source": [
    "p=np.array([[0.1,0.2,0.3,0.1,0.3],\n",
    "          [0.2,0.1,0.2,0.2,0.3],\n",
    "          [0.3,0.2,0.1,0.2,0.2],\n",
    "          [0.1,0.2,0.2,0.1,0.4],\n",
    "          [0.3,0.3,0.2,0.1,0.1]])"
   ]
  },
  {
   "cell_type": "code",
   "execution_count": 43,
   "id": "31137043",
   "metadata": {},
   "outputs": [],
   "source": [
    "def rmarkovchain1(pi,m):\n",
    "    p=np.array([[0.1,0.2,0.3,0.1,0.3],\n",
    "          [0.2,0.1,0.2,0.2,0.3],\n",
    "          [0.3,0.2,0.1,0.2,0.2],\n",
    "          [0.1,0.2,0.2,0.1,0.4],\n",
    "          [0.3,0.3,0.2,0.1,0.1]])\n",
    "    #p=np.array([[1-a,a],[b,1-b]])\n",
    "    states=[0,1,2,3,4]\n",
    "    x=[np.random.choice(states,p=pi,size=1)[0]]\n",
    "    for i in range(1,m):\n",
    "        estado_actual=x[-1]\n",
    "        next_estado=np.random.choice(states,p=p[estado_actual])\n",
    "        x.append(next_estado)\n",
    "    return np.array(x)"
   ]
  },
  {
   "cell_type": "code",
   "execution_count": 46,
   "id": "04a86404",
   "metadata": {},
   "outputs": [
    {
     "data": {
      "text/plain": [
       "array([1, 4, 2, 4, 1, 4, 0, 3, 0, 2])"
      ]
     },
     "execution_count": 46,
     "metadata": {},
     "output_type": "execute_result"
    }
   ],
   "source": [
    "rmarkovchain1([1/5,2/5,0/5,1/5,1/5],10)"
   ]
  },
  {
   "cell_type": "code",
   "execution_count": 51,
   "id": "2bc4ae16",
   "metadata": {},
   "outputs": [
    {
     "data": {
      "image/png": "[encoded data removed]",
      "text/plain": [
       "<Figure size 640x480 with 1 Axes>"
      ]
     },
     "metadata": {},
     "output_type": "display_data"
    }
   ],
   "source": [
    "x=rmarkovchain1([0/5,5/5,0/5,0/5,0/5],100)\n",
    "n=np.arange(0,100)\n",
    "plt.scatter(n,x)\n",
    "plt.show()"
   ]
  },
  {
   "cell_type": "code",
   "execution_count": null,
   "id": "e1d6b8f3",
   "metadata": {},
   "outputs": [],
   "source": []
  }
 ],
 "metadata": {
  "kernelspec": {
   "display_name": "Python 3 (ipykernel)",
   "language": "python",
   "name": "python3"
  },
  "language_info": {
   "codemirror_mode": {
    "name": "ipython",
    "version": 3
   },
   "file_extension": ".py",
   "mimetype": "text/x-python",
   "name": "python",
   "nbconvert_exporter": "python",
   "pygments_lexer": "ipython3",
   "version": "3.11.4"
  }
 },
 "nbformat": 4,
 "nbformat_minor": 5
}
