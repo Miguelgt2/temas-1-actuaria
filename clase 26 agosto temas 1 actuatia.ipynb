{
 "cells": [
  {
   "cell_type": "code",
   "execution_count": 1,
   "id": "ac6faf1c",
   "metadata": {},
   "outputs": [],
   "source": [
    "import numpy as np"
   ]
  },
  {
   "cell_type": "code",
   "execution_count": 38,
   "id": "a8468466",
   "metadata": {},
   "outputs": [],
   "source": [
    "k=10\n",
    "u1=np.random.random()\n",
    "x=int(k*u1)+1\n",
    "\n",
    "u2=np.random.random()\n",
    "\n",
    "py = [0.11, 0.12, 0.09, 0.08, 0.12,0.1,0.09,0.09,0.1,0.1]  # Probabilidades\n",
    "\n",
    "# Encontrar el valor de `i` correspondiente al valor aleatorio `u`\n",
    "for i in range(1, len(py)):\n",
    "    if u2 <= (x/10) :\n",
    "        y = i\n",
    "        break"
   ]
  },
  {
   "cell_type": "code",
   "execution_count": 39,
   "id": "127efca5",
   "metadata": {},
   "outputs": [],
   "source": [
    "p=[0.11, 0.12, 0.09, 0.08, 0.12,0.1,0.09,0.09,0.1,0.1] \n",
    "p=np.array(p)\n",
    "q=1/10\n",
    "c=(p/q).max()\n",
    "lista=[] # se guardan las simulaviones\n",
    "contador =[] # se guardan las iteraciones\n",
    "for i in range(100):\n",
    "    i=0\n",
    "    bandera=1\n",
    "    while (bandera==1):\n",
    "        u1=np.random.random()\n",
    "        y=int(10*u1)+1\n",
    "        u2=np.random.random()\n",
    "        i=i+1\n",
    "        if(u2<=p[y-1]/(c*q)):\n",
    "            x=y\n",
    "            bandera=0\n",
    "            contador.append(i)"
   ]
  },
  {
   "cell_type": "code",
   "execution_count": 40,
   "id": "81e59a70",
   "metadata": {},
   "outputs": [
    {
     "data": {
      "text/plain": [
       "array([1, 1, 1, 1, 1, 1, 1, 1, 1, 2, 1, 1, 1, 1, 1, 1, 1, 1, 1, 1, 2, 1,\n",
       "       1, 1, 1, 1, 1, 1, 1, 1, 1, 3, 2, 1, 1, 1, 1, 1, 1, 1, 1, 1, 1, 1,\n",
       "       1, 1, 1, 2, 3, 2, 1, 1, 1, 1, 1, 2, 1, 2, 1, 2, 1, 1, 1, 1, 1, 4,\n",
       "       1, 1, 1, 1, 1, 1, 1, 1, 2, 1, 1, 1, 2, 1, 1, 2, 1, 2, 1, 1, 3, 2,\n",
       "       1, 1, 1, 1, 1, 1, 1, 2, 1, 2, 1, 1])"
      ]
     },
     "execution_count": 40,
     "metadata": {},
     "output_type": "execute_result"
    }
   ],
   "source": [
    "c=np.array(contador)\n",
    "c"
   ]
  },
  {
   "cell_type": "code",
   "execution_count": 18,
   "id": "5f76af54",
   "metadata": {},
   "outputs": [
    {
     "data": {
      "text/plain": [
       "0.8333333333333334"
      ]
     },
     "execution_count": 18,
     "metadata": {},
     "output_type": "execute_result"
    }
   ],
   "source": [
    "q[y+1]/(c*p)"
   ]
  },
  {
   "cell_type": "code",
   "execution_count": null,
   "id": "70c7dde3",
   "metadata": {},
   "outputs": [],
   "source": []
  }
 ],
 "metadata": {
  "kernelspec": {
   "display_name": "Python 3 (ipykernel)",
   "language": "python",
   "name": "python3"
  },
  "language_info": {
   "codemirror_mode": {
    "name": "ipython",
    "version": 3
   },
   "file_extension": ".py",
   "mimetype": "text/x-python",
   "name": "python",
   "nbconvert_exporter": "python",
   "pygments_lexer": "ipython3",
   "version": "3.11.4"
  }
 },
 "nbformat": 4,
 "nbformat_minor": 5
}
