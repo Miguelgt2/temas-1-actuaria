{
 "cells": [
  {
   "cell_type": "markdown",
   "id": "bffb7cd6",
   "metadata": {},
   "source": [
    "$$\\int_0^\\pi sen(x) dx = \\int_0^1$$"
   ]
  },
  {
   "cell_type": "code",
   "execution_count": 1,
   "id": "1240c444",
   "metadata": {},
   "outputs": [
    {
     "data": {
      "text/plain": [
       "1.9896377831652499"
      ]
     },
     "execution_count": 1,
     "metadata": {},
     "output_type": "execute_result"
    }
   ],
   "source": [
    "import numpy as np\n",
    "\n",
    "def monte(n):\n",
    "    lista=[]\n",
    "    u = np.random.random(n)\n",
    "    x=((np.sin(np.pi*u))*np.pi).mean() #Se hace la evaluación de los números pseudoaleatorios en el argumento de la integral\n",
    "    \n",
    "    return x\n",
    "\n",
    "\n",
    "monte(10000)"
   ]
  },
  {
   "cell_type": "code",
   "execution_count": 2,
   "id": "cdfa3df3",
   "metadata": {},
   "outputs": [
    {
     "data": {
      "text/plain": [
       "6.338270701704577"
      ]
     },
     "execution_count": 2,
     "metadata": {},
     "output_type": "execute_result"
    }
   ],
   "source": [
    "def monte(n):\n",
    "    lista=[]\n",
    "    u = np.random.random(n)\n",
    "    x=(np.exp(np.exp(u))).mean() #Se hace la evaluación de los números pseudoaleatorios en el argumento de la integral\n",
    "    \n",
    "    return x\n",
    "\n",
    "\n",
    "monte(10000)"
   ]
  },
  {
   "cell_type": "code",
   "execution_count": 5,
   "id": "baf66cad",
   "metadata": {},
   "outputs": [
    {
     "data": {
      "text/plain": [
       "11.848695718790474"
      ]
     },
     "execution_count": 5,
     "metadata": {},
     "output_type": "execute_result"
    }
   ],
   "source": [
    "def monte(n):\n",
    "    lista=[]\n",
    "    u = np.random.random(n)\n",
    "    #x=(np.exp(np.exp(u))).mean() #Se hace la evaluación de los números pseudoaleatorios en el argumento de la integral\n",
    "    x=((((1/u)-1)*((1+(((1/u)-1)))**(-2)))/(u**2)).mean()\n",
    "    return x\n",
    "\n",
    "\n",
    "monte(10000)"
   ]
  },
  {
   "cell_type": "code",
   "execution_count": 13,
   "id": "9ed76194",
   "metadata": {},
   "outputs": [
    {
     "data": {
      "text/plain": [
       "1.0131103963009773"
      ]
     },
     "execution_count": 13,
     "metadata": {},
     "output_type": "execute_result"
    }
   ],
   "source": [
    "import numpy as np\n",
    "\n",
    "def monte(n):\n",
    "    lista = []\n",
    "    u1 = np.random.random(n)\n",
    "    u2 = np.random.random(n)\n",
    "    \n",
    "    for i in range(n):\n",
    "        if u2[i] < u1[i]:\n",
    "            y = np.exp(-((1 / u1[i]) + (1 / u2[i]) - 2)) / ((u1[i]**2) * (u2[i]**2))\n",
    "            lista.append(y)\n",
    "    \n",
    "    # Retornar la media de los valores calculados\n",
    "    return np.mean(lista)\n",
    "\n",
    "# Ejecutar la función\n",
    "monte(10000)\n"
   ]
  },
  {
   "cell_type": "code",
   "execution_count": 25,
   "id": "6fc6dfcc",
   "metadata": {},
   "outputs": [
    {
     "data": {
      "text/plain": [
       "0.4694089993685943"
      ]
     },
     "execution_count": 25,
     "metadata": {},
     "output_type": "execute_result"
    }
   ],
   "source": [
    "import numpy as np\n",
    "\n",
    "def monte(n):\n",
    "    lista = []\n",
    "    u1 = np.random.random(n)\n",
    "    u2 = np.random.random(n)\n",
    "    \n",
    "    for i in range(n):\n",
    "        if u2[i] < u1[i]:\n",
    "            y = np.exp(-((1 /( u1[i])+u2[i])- 1)) / (((u1[i]+u2[i])**2))\n",
    "            lista.append(y)\n",
    "        \n",
    "    \n",
    "    # Retornar la media de los valores calculados\n",
    "    return np.mean(lista)\n",
    "\n",
    "# Ejecutar la función\n",
    "monte(1000000)\n"
   ]
  },
  {
   "cell_type": "code",
   "execution_count": null,
   "id": "96fb6cf1",
   "metadata": {},
   "outputs": [],
   "source": []
  }
 ],
 "metadata": {
  "kernelspec": {
   "display_name": "Python 3 (ipykernel)",
   "language": "python",
   "name": "python3"
  },
  "language_info": {
   "codemirror_mode": {
    "name": "ipython",
    "version": 3
   },
   "file_extension": ".py",
   "mimetype": "text/x-python",
   "name": "python",
   "nbconvert_exporter": "python",
   "pygments_lexer": "ipython3",
   "version": "3.11.4"
  }
 },
 "nbformat": 4,
 "nbformat_minor": 5
}
