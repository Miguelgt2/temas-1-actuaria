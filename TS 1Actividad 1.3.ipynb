{
 "cells": [
  {
   "cell_type": "markdown",
   "id": "e7d6eb18-f6a4-44db-9134-39225e032eac",
   "metadata": {},
   "source": [
    "## Actividad 1.3"
   ]
  },
  {
   "cell_type": "markdown",
   "id": "a70ab5e6-8b7f-4f71-9ff2-da9db452ce9b",
   "metadata": {
    "jp-MarkdownHeadingCollapsed": true
   },
   "source": [
    "### Ejercicio 1"
   ]
  },
  {
   "cell_type": "markdown",
   "id": "50290def-143b-4251-8ee9-47d01048de76",
   "metadata": {},
   "source": [
    "Considere una variable aleatoria X con función de densidad $f(x) = 2x \\cdot I_{(0,1)}(x)$, escribir e implementar un algoritmo para generar valores de dicha variable."
   ]
  },
  {
   "cell_type": "markdown",
   "id": "815a06fe-1a72-4b0c-825c-7a07dffadacb",
   "metadata": {},
   "source": [
    "1) Para generar una variable aleatoria X, se necesita la función de distribución.\n",
    "2) Integramos la función de densidad, para obtener la función de distribución.\n",
    "$$\\int_{0}^{x}2tdt = t^{2}\\mathrm{|}_{0}^{x} = x^{2}$$\n",
    "$$F(x) = x^{2}, \\hspace{0.5cm} 0 < x < 1$$\n",
    "\\\\\n",
    "3) Encontramos la inversa de la función de distribución:\n",
    "$$u=F(x)=x^{2}\\hspace{0.3cm} \\Rightarrow\\hspace{0.3cm}u = x^{2} \\hspace{0.3cm}\\Rightarrow \\hspace{0.3cm}\\sqrt{u} = \\left| x \\right|\\hspace{0.3cm} \\Rightarrow\\hspace{0.3cm} \\sqrt{u} = x$$\n",
    "\\\\\n",
    "4) Generamos un número aleatorio con el comando: np.random.random()\n",
    "5) Se ingresa el número random a la función inversa de la distribución, es decir: $\\hspace{0.3cm}x=\\sqrt{u}$"
   ]
  },
  {
   "cell_type": "code",
   "execution_count": 5,
   "id": "6e3b0743-7927-4f5f-ada0-908b1c72c3a8",
   "metadata": {},
   "outputs": [
    {
     "name": "stdout",
     "output_type": "stream",
     "text": [
      "Ingrese el número de simulaciones: 5\n"
     ]
    },
    {
     "data": {
      "text/plain": [
       "array([0.81386771, 0.94292151, 0.67723692, 0.33904035, 0.90787296])"
      ]
     },
     "execution_count": 5,
     "metadata": {},
     "output_type": "execute_result"
    }
   ],
   "source": [
    "import numpy as np\n",
    "\n",
    "def var_uni(n): #Definimos la función en la que se generarán n simulaciones\n",
    "    lista = []  #Definimos una lista vacia, para ingresar los valores de las variables\n",
    "    for i in range(n): #Iniciamos un ciclo para realizar las n simulaciones\n",
    "        u= np.random.random()  #Generamos el número u random\n",
    "        x=np.sqrt(u)  #Ingresamos el número random en la función inversa de\n",
    "        lista.append(x) #Guardams el valor de x en la lista\n",
    "    return np.array(lista)\n",
    "\n",
    "n = int(input(\"Ingrese el número de simulaciones: \"))\n",
    "var_uni(n)"
   ]
  },
  {
   "cell_type": "markdown",
   "id": "e580e07f-f7d6-4b11-95df-77242691ea36",
   "metadata": {
    "jp-MarkdownHeadingCollapsed": true
   },
   "source": [
    "### Ejercicio 2"
   ]
  },
  {
   "cell_type": "markdown",
   "id": "bfed835c-7456-484c-aba4-548497e8d396",
   "metadata": {},
   "source": [
    "Considere una variable aleatoria, X con soporte (recorrido) en el conjunto {1, 2, 3, 4, 5} y con distribución  {1/3, 1/5, 1/6, 1/6, 4/30}. Implementar un algoritmo paragenerar una muestra de 1,000 elementos de dicha distribución.n."
   ]
  },
  {
   "cell_type": "markdown",
   "id": "3967ce37-6eb5-4490-b29a-d4a55cccc415",
   "metadata": {},
   "source": [
    "1. Asignamos a cada probabilidad de la función de distribución, su número de soporte correspondiente, es decir: $p_{1}=\\frac{1}{3},\\hspace{0.3cm} p_{2}=\\frac{1}{5},\\hspace{0.3cm} p_{3}=\\frac{1}{6},\\hspace{0.3cm} p_{4}=\\frac{1}{6},\\hspace{0.3cm} p_{5}=\\frac{4}{30}$\n",
    "\n",
    "2. Ordenamos las probabilidades de mayor a menor, con su respectivo número asignado anteriormente.\n",
    "\n",
    "3. Generamos un número aleatorio U, entre 0 y 1.\n",
    "\n",
    "4. Se verifica la condición $U < F$, donde $F$ es la función acumulada, si U no es menor que la probabilidad con que se comparó, se suma la siguiente probabilidad con la anterior y se vuelve a verificar la desigualdad.\n",
    "\n",
    "5. Se termina cuando el valor de U sea mayor que las probabilidades acumuladas, en ese caso, el número asignado a la probabilidad, será el número que se imprima como el número simulado."
   ]
  },
  {
   "cell_type": "code",
   "execution_count": 7,
   "id": "a127bee1-05d2-431b-be11-56f6520ab7e5",
   "metadata": {},
   "outputs": [
    {
     "name": "stdout",
     "output_type": "stream",
     "text": [
      "Ingrese el número de simulaciones: 100\n",
      "Simulaciones:  [2, 1, 1, 4, 1, 1, 4, 1, 2, 4, 5, 1, 2, 5, 4, 1, 3, 3, 1, 1, 1, 1, 4, 2, 1, 4, 2, 3, 1, 3, 4, 1, 2, 1, 5, 4, 5, 4, 1, 4, 1, 2, 1, 4, 1, 4, 4, 1, 4, 3, 4, 5, 5, 2, 5, 5, 3, 2, 4, 1, 1, 4, 4, 2, 3, 2, 1, 5, 5, 2, 5, 2, 5, 1, 1, 3, 1, 3, 2, 4, 2, 3, 2, 1, 3, 5, 3, 3, 1, 1, 3, 3, 5, 3, 1, 3, 4, 3, 3, 4]\n"
     ]
    }
   ],
   "source": [
    "import numpy as np\n",
    "from itertools import accumulate\n",
    "import operator\n",
    "\n",
    "def trans(n):  #Declaramos función que realice los números aleatorios\n",
    "    x = []  # Declaramos una lista para almacenar los resultados\n",
    "    fun = [1/3,1/5,1/6,1/6,4/30]  #Declaramos la función de probabilidad\n",
    "    sop =[1,2,3,4,5]\n",
    "    for i in range(n): #Ciclo para generar n números random y verificar entre que intervalo se encuentra\n",
    "        u = np.random.random()  # Genera un número random entre (0,1)\n",
    "        va = funpro(u,fun, sop) #Llama a la función ingresando el valor aleatorio y tomando la función de probabilidad\n",
    "        x.append(va)  #Ingresa el valor devuelto de la verificación en el arreglo\n",
    "    return x  # Devuelve la lista con los valores ingresados\n",
    "\n",
    "def funpro(u, fun, sop):   #Funci>ón que compara el número con las probabilidades\n",
    "    fun2 = sorted(fun, reverse=True) #Ordena la función de probabilidad de mayor a menor\n",
    "    fun_acumulada = list(accumulate(fun2))  # Calcular la función acumulada de la función de distribución\n",
    "    for i, p in enumerate(fun_acumulada):  #La función enumerate, le asigna, un número\n",
    "        #a la posición en uqe se encuentre la cantidad amuculada\n",
    "        #Se pone en un ciclo, para que aumente la probabilidad del intervalo\n",
    "        #de acuerdo con la función acumulada\n",
    "        if u < p:\n",
    "            return sop[i]  # Devuelve el valor correspondiente del soporte\n",
    "            #de acuerdo con la posición en que se encuentre\n",
    "\n",
    "    \n",
    "\n",
    "#Ejemplo de uso\n",
    "n = int(input(\"Ingrese el número de simulaciones: \")) #Se pide el número de simulaciones\n",
    "arreglo = trans(n)  #Ingresa el número de simulaciones a la función \n",
    "print(\"Simulaciones: \", arreglo)  #Imprime el arreglo"
   ]
  },
  {
   "cell_type": "markdown",
   "id": "1da2520d-63a1-4fdb-99fc-d707f9ed79c2",
   "metadata": {
    "jp-MarkdownHeadingCollapsed": true
   },
   "source": [
    "### Ejercicio 3"
   ]
  },
  {
   "cell_type": "markdown",
   "id": "c3dee799-890b-4fc0-b003-5217977ca62a",
   "metadata": {},
   "source": [
    "Implementar algoritmos para generar números provenientes de las siguientes variables aleatorias:"
   ]
  },
  {
   "cell_type": "markdown",
   "id": "ba4a494d-829d-4828-9b54-4be3440bd22e",
   "metadata": {},
   "source": [
    "a) Uniforme discreta con soporte en los primeros 10 naturales:"
   ]
  },
  {
   "cell_type": "markdown",
   "id": "1876af7b-2334-4e46-ab3d-3ba5aff1c7b2",
   "metadata": {},
   "source": [
    "1. Como es una variable uniforme discreta la distribución será:\n",
    "$$P\\left[ X=j \\right] = \\frac{1}{n},\\hspace{0.3cm} j=1,2,...,n$$\n",
    "Donde n, es el valor máximo del soporte de la función de distribución.\n",
    "\n",
    "2. Se aplica el método de la transformada inversa a la función de distribución:\n",
    "$$X=j, \\hspace{0.3cm} \\frac{j-1}{n}\\le U\\lt \\frac{j}{n}$$\n",
    "\n",
    "3. Se multiplica n en ambos lados de la desigualdad:\n",
    "$$j-1\\le nU\\lt j$$\n",
    "\n",
    "4. Por lo que la variable aleatoria generada, tendrá la función:\n",
    "$$X=\\left[ nU \\right]+1$$\n",
    "$\\left[ X \\right]$ es la parte entera de x\n",
    "\n",
    "5. Se genera un número aleatorio U, entre 0 y 1\n",
    "6. Se ingresa el número aleatorio en la función $X=\\left[ nU \\right]+1$ para obtener el valor de la variable aletaria."
   ]
  },
  {
   "cell_type": "code",
   "execution_count": 8,
   "id": "f92e6144-daac-4937-9e6d-64bcce4c7373",
   "metadata": {},
   "outputs": [
    {
     "name": "stdout",
     "output_type": "stream",
     "text": [
      "Ingrese el número de simulaciones: 10\n"
     ]
    },
    {
     "data": {
      "text/plain": [
       "array([2, 7, 9, 3, 4, 4, 7, 9, 6, 1])"
      ]
     },
     "execution_count": 8,
     "metadata": {},
     "output_type": "execute_result"
    }
   ],
   "source": [
    "##  Algoritmo de la transformada inversa de una variable aleatoria uniforme discreta\n",
    "import numpy as np\n",
    "def uni(s): #Definimos la función \n",
    "    lista = []\n",
    "    n = 10   #Tope Máximo del soporte de mi distribución \n",
    "    for i in range(n):\n",
    "        u = np.random.random()  #Genera número random entre cero y uno\n",
    "        x = int(n*u)+1 # y suma 1 para que el rango sea de 1 a n en lugar de 0 a n-1.\n",
    "        lista.append(x)\n",
    "    return np.array(lista)\n",
    "\n",
    "\n",
    "s = int(input(\"Ingrese el número de simulaciones: \"))\n",
    "uni(s)"
   ]
  },
  {
   "cell_type": "markdown",
   "id": "9fa555a8-0856-4254-bda3-0b421ac4de54",
   "metadata": {},
   "source": [
    "b) Binomial con n = 10 y p = 1/2"
   ]
  },
  {
   "cell_type": "markdown",
   "id": "b33fef6a-acdd-4351-a9d7-6fdb42f2dfcd",
   "metadata": {},
   "source": [
    "1. Generamos un número aleatorio U, entre 0 y 1\n",
    "\n",
    "2. Obtenemos la constante c, que es igual a $c=\\frac{p}{1-p}$, definimos a i = 0, que seria el primer valor que tenga la variable X, y obtenemos la probabilidad de que X sea igual a i, que es: $pr=(1-p)^{n}$\n",
    "3. Asignamos el valor de F = pr\n",
    "4. Verificamos que el número aleatorio sea menor que F, en ese caso X = i y se termina el proceso.\n",
    "5. Si U es mayor que F, entonces pr cambia a $pr=\\frac{c(n-i9}{i+1}pr$\n",
    "6. Cambia el valor de la distribución F = F + pr, y el i aumenta una unidad.\n",
    "7. Se vuelve a comparar el número aleatorio en el nuevo valor de la función de probabilidad, hasta que el valor de U no supere el valor de F.\n"
   ]
  },
  {
   "cell_type": "code",
   "execution_count": 10,
   "id": "d9dfa107-38f0-4c24-951f-f9b8eec9df9b",
   "metadata": {},
   "outputs": [
    {
     "name": "stdout",
     "output_type": "stream",
     "text": [
      "Ingrese el número de ensayos: 10\n",
      "Ingrese la probabilidad de éxito: .5\n",
      "Ingrese el número de simulaciones: 40\n"
     ]
    },
    {
     "data": {
      "text/plain": [
       "array([5, 7, 7, 3, 3, 4, 6, 4, 5, 5, 4, 3, 7, 4, 5, 0, 5, 8, 5, 4, 4, 8,\n",
       "       6, 4, 4, 6, 6, 6, 4, 7, 5, 4, 8, 5, 4, 6, 7, 3, 6, 6])"
      ]
     },
     "execution_count": 10,
     "metadata": {},
     "output_type": "execute_result"
    }
   ],
   "source": [
    "# Binomial\n",
    "\n",
    "import numpy as np\n",
    "def bin (n,p, sim): #Definimos la función binomial\n",
    "  lista = [] #Lista #Crea la lista\n",
    "  for a in range(sim): #Inicialización del ciclo, con base en el número de simulaciones\n",
    "    u = np.random.random() #Genera un número random\n",
    "    c = p / (1-p) #Constante que se obtiene de la transformada inversa\n",
    "    i = 0 #Inicia el número de iteraciones\n",
    "    pr = (1-p)**n #Probabilidad de que X = i\n",
    "    F = pr #Asignamos el valor de que X = i, a la variable F\n",
    "    while True: #Inicio de iteración\n",
    "      if u < F:\n",
    "        break       \n",
    "      pr = ((c * (n-i)) / (i + 1)) * pr #Actualización del valor de pr, con base en el número de iteraciones\n",
    "      F = F + pr #Actualización de la variable F con el nuevo valor de pr\n",
    "      i += 1 #Contador del número de iteraciones que realiza el ciclo\n",
    "    lista.append(i) #Guarda el número de iteraciones en una lista\n",
    "  return np.array(lista) #Devuelve la lista en forma de arreglo\n",
    "\n",
    "\n",
    "\n",
    "n2=int(input(\"Ingrese el número de ensayos: \")) #Se le pide al usuario que ingrese el número de ensayos\n",
    "p2=float(input(\"Ingrese la probabilidad de éxito: \")) #Se le pide al usuario que ingrese la probabilidad de éxito\n",
    "sim2=int(input(\"Ingrese el número de simulaciones: \")) #Se pide al usuario que ingrese el número de simulaciones\n",
    "bin(n2,p2,sim2) #Se ingresan los valores solicitados a la función para la generación de una variable aleatoria binomial"
   ]
  },
  {
   "cell_type": "markdown",
   "id": "d5243cca-49d8-4575-af8f-87d056861eef",
   "metadata": {},
   "source": [
    "c) Poisson(9)"
   ]
  },
  {
   "cell_type": "markdown",
   "id": "796d73dd-358a-4535-bf45-21d4f4b0794e",
   "metadata": {},
   "source": [
    "1. Generamos un número aleatorio U\n",
    "2. Asignamos el número de iteraciones a i = 0\n",
    "3. Se realiza el cálculo de la probabilidad de que X sea igual a i, con la función $p = e^{-\\lambda}$\n",
    "4. Se define la función de distribución acumulada como, $F = p$\n",
    "5. Se inicia una iteración en la que verificamos $\\hspace{0.1cm}U < F$, en caso de que se cumpla $X=i$ y se termina la iteración.\n",
    "6. De lo contrario se fija: $p=\\lambda \\frac{p}{i+1}$; la acumulada suma la probabilidad anterior, $F=F+p$ y el número de iteraciones aumenta 1, $i=i+1$\n",
    "7. Se vuelve a verificar $\\hspace{0.1cm}U < F$, en caso de que se cumpla $X=i$ y se termina la iteración, en caso contrario, se realiza el proceso del paso 6."
   ]
  },
  {
   "cell_type": "code",
   "execution_count": 11,
   "id": "76e8aa73-91e6-4715-b663-00122bd82cb5",
   "metadata": {},
   "outputs": [
    {
     "name": "stdout",
     "output_type": "stream",
     "text": [
      "Ingrese el valor de lambda: 9\n",
      "Ingrese el número de simulaciones: 10\n"
     ]
    },
    {
     "data": {
      "text/plain": [
       "array([8, 5, 6, 7, 8, 5, 7, 6, 7, 9])"
      ]
     },
     "execution_count": 11,
     "metadata": {},
     "output_type": "execute_result"
    }
   ],
   "source": [
    "import numpy as np\n",
    "def poi (lam,n): #Definimos función \n",
    "  lista = [] #Creamos una lista\n",
    "  for a in range(n):   #Ciclo para realizar las n simulaciones\n",
    "    u = np.random.random()   #Generar número random\n",
    "    i = 0       #El número de iteraciones inicia en 0                   \n",
    "    p = np.exp(-lam)  #Realizamos la probabilidad de que X sea igual a i\n",
    "    F = p   #Asignammos el valor de la función de distribución acumulada\n",
    "    while True:    #Iteración, en la que se verifica que el valor de el número aleatorio sea menor que el valor de la distribución\n",
    "      if u < F:\n",
    "        break\n",
    "      p = lam * (p / (i + 1))       #Identidad para el método de la transformada inversa\n",
    "      F = F + p                           #Actualiza el valor de la función con el valor de la identidad\n",
    "      i += 1                               #Contador del  número de iteraciones\n",
    "    lista.append(i)                  #Se guarda el número de iteraciones en una lista\n",
    "  return np.array(lista)        #Devuelve la función la lista, pero en forma de arreglo\n",
    "lamu = int(input(\"Ingrese el valor de lambda: \"))        #Se pide al usuario que ingrese el valor del parámetro lambda\n",
    "nu = int(input(\"Ingrese el número de simulaciones: \"))    #Se pide al usuario que ingreso el número de simulaciones\n",
    "poi(lamu,nu)                                   #Ingresa los parámetros en la función \n",
    "    "
   ]
  },
  {
   "cell_type": "markdown",
   "id": "82b451fa-1122-40a0-af76-6c40e91a9650",
   "metadata": {},
   "source": [
    "d) Geométrica con un parámetro adecuado para tener un número de iteraciones menores a 3."
   ]
  },
  {
   "cell_type": "markdown",
   "id": "b46a7b7d-2bc1-4d46-8f64-d33f866a9ebc",
   "metadata": {},
   "source": [
    "1. Obtenemos el parámetro de la distribución geométrica para que el promedio de las iteraciones sea menor a 3.\n",
    "\n",
    "\n",
    "Sea $$E(x)=\\frac{1}{p}\\hspace{0.3cm} \\Rightarrow\\hspace{0.3cm} E(x)<3 \\hspace{0.3cm} \\Rightarrow\\hspace{0.3cm} \\frac{1}{p}<3 \\hspace{0.3cm} \\Rightarrow\\hspace{0.3cm} \\frac{1}{3} < p$$\n",
    "\n",
    "\n",
    "2. Utilizando el método de la transformada inversa,  sea la función de distribución:\n",
    "$$F(x)=1-(1-p)^{x+1}  \\hspace{0.3cm} \\Rightarrow\\hspace{0.3cm} u=1-(1-p)^{x+1}\n",
    "\\hspace{0.3cm} \\Rightarrow\\hspace{0.3cm} (1-p)^{x+1} = 1-u$$\n",
    "$$\\Rightarrow\\hspace{0.3cm} (x+1)In(1-p)=In(1-u)\n",
    "\\hspace{0.3cm} \\Rightarrow\\hspace{0.3cm} x= \\frac{In(1-u)}{In(1-p)}-1$$\n",
    "Obtenemos la función inversa\n",
    "3. Generamos un número random U\n",
    "4. Cálculamos la probabilidad $\\hspace{0.3cm}q=1-p$\n",
    "5. Ingresamos el número random U, en la función inversa, obtenemos nuestro valor de x"
   ]
  },
  {
   "cell_type": "code",
   "execution_count": 12,
   "id": "6599cc3b-2635-4a37-acc7-d1e9c9b9d78a",
   "metadata": {},
   "outputs": [
    {
     "name": "stdout",
     "output_type": "stream",
     "text": [
      "Ingrese el valor de la probabilidad (debe ser mayor que 1/3:.5\n",
      "Ingrese el número de simulaciones:10\n"
     ]
    },
    {
     "data": {
      "text/plain": [
       "array([1, 1, 3, 2, 6, 1, 2, 3, 1, 1])"
      ]
     },
     "execution_count": 12,
     "metadata": {},
     "output_type": "execute_result"
    }
   ],
   "source": [
    "def rgeom (p, sim):    #Definimos la función que genera los números aleatorios de una variable geométrica\n",
    "    lista=[]          #Genera una lista \n",
    "    for i in range(sim):   #Ciclo que realiza el número de simulaciones deseado\n",
    "        u = np.random.random()   #Genera un número random entre 0 y 1\n",
    "        q=1-p               #Complemento de la probabilidad\n",
    "        x=int(np.log(1-u)/np.log(q))+1    #Función que regresa el valor x, de acuerdo con la función geometrica \n",
    "        lista.append(x)   #Guarda los valores x en la lista\n",
    "    return np.array(lista)    #La función regresa el arreglo con los números generados \n",
    "\n",
    "p = float(input(\"Ingrese el valor de la probabilidad (debe ser mayor que 1/3:\"))\n",
    "sim = int(input(\"Ingrese el número de simulaciones:\"))\n",
    "rgeom(p,sim)"
   ]
  },
  {
   "cell_type": "markdown",
   "id": "8fa20302-9d2c-4d74-8a99-134bcb67994e",
   "metadata": {
    "jp-MarkdownHeadingCollapsed": true
   },
   "source": [
    "### Ejercicio 4"
   ]
  },
  {
   "cell_type": "markdown",
   "id": "ba4a2f9c-8f0b-4b78-84b8-2c468c68557c",
   "metadata": {},
   "source": [
    "Describir un algoritmo para genera la distribución Binomial utilizando el algoritmo de transformada inversa de la distribución Bernoulli"
   ]
  },
  {
   "cell_type": "markdown",
   "id": "07e1be16-3829-482d-84ba-b36fbdc81b7f",
   "metadata": {},
   "source": [
    "#### Determinación de \\( x \\)\n",
    "\n",
    "La expresión $u =\\frac{p^{x}}{c(1-p)^{1-x}}$ puede ser utilizada de la siguiente manera para determinar \\( x \\):\n",
    "\n",
    "1. Si \\( u <= 1-p \\), entonces \\( x = 0 \\).\n",
    "2. Si \\( u > 1-p \\), entonces \\( x = 1 \\).\n",
    "\n",
    "#### Expresando \\( x \\) en términos de \\( u \\)\n",
    "\n",
    "Finalmente, para resolver para \\( x \\) dado \\( u \\):\n",
    "\n",
    "\\[\n",
    "x = \\begin{cases} \n",
    "0 & \\text{si } u \\leq 1-p \\\\\n",
    "1 & \\text{si } u > 1-p \n",
    "\\end{cases}\n",
    "\\]\n",
    "\n",
    "Esto indica que:\n",
    "\n",
    "- Si \\( u <= 1-p \\), el valor de \\( x \\) es 0 (fracaso).\n",
    "- Si \\( u > 1-p \\), el valor de \\( x \\) es 1 (éxito).\n"
   ]
  },
  {
   "cell_type": "markdown",
   "id": "c1ae5245",
   "metadata": {},
   "source": [
    "1. **Definición de la función y parámetros**: La función `binomial` acepta tres parámetros: `m`, `n`, y `p`.\n",
    "   - `m`: número de experimentos a simular.\n",
    "   - `n`: número de ensayos de Bernoulli en cada experimento.\n",
    "   - `p`: probabilidad de éxito en cada ensayo de Bernoulli.\n",
    "\n",
    "2. **Inicialización de la lista de resultados**: Se crea una lista vacía, `lista`, donde se almacenarán los resultados de cada experimento.\n",
    "\n",
    "3. **Bucle exterior para cada experimento**: Se ejecuta un bucle que itera `m` veces, una para cada experimento.\n",
    "\n",
    "4. **Simulación de `n` ensayos de Bernoulli**:\n",
    "   - Se inicializa un contador `x` en 0, que cuenta el número de éxitos en cada experimento.\n",
    "   - Se inicia otro bucle que corre `n` veces, representando los `n` ensayos de Bernoulli dentro de cada experimento.\n",
    "   - En cada iteración, se genera un número aleatorio `u` entre 0 y 1.\n",
    "   - Si `u` es mayor que `1-p` (es decir, `u <= p`), entonces se cuenta un éxito incrementando `x` por 1.\n",
    "\n",
    "5. **Almacenamiento del resultado del experimento**: Después de completar los `n` ensayos, el número total de éxitos `x` se añade a la lista `lista`.\n",
    "\n",
    "6. **Conversión de la lista a un array y cálculo de la media**: Al finalizar todos los experimentos, la lista se convierte en un array de NumPy, y se retorna este array. Fuera de la función, se llama a `.mean()` para calcular la media de los resultados obtenidos de los 10 experimentos.\n",
    "\n"
   ]
  },
  {
   "cell_type": "code",
   "execution_count": 32,
   "id": "b6588a0a",
   "metadata": {},
   "outputs": [],
   "source": [
    "import numpy as np\n",
    "\n",
    "# Función para simular una distribución binomial\n",
    "# m: número de experimentos\n",
    "# n: número de ensayos por experimento\n",
    "# p: probabilidad de éxito en cada ensayo\n",
    "def binomial(m, n, p):\n",
    "    lista = []  # Lista para almacenar los resultados de cada experimento\n",
    "    for j in range(m):  # Ciclo para realizar m experimentos\n",
    "        x = 0  # Inicialización del contador de éxitos en el experimento\n",
    "        for i in range(n):  # Ciclo para realizar n ensayos en cada experimento\n",
    "            u = np.random.random()  # Genera un número aleatorio entre 0 y 1\n",
    "            if u > (1 - p):  # Si el número es mayor que 1 - p, se cuenta como un éxito\n",
    "                x = x + 1  # Aumenta el contador de éxitos\n",
    "        lista.append(x)  # Añade el número de éxitos obtenidos en el experimento a la lista\n",
    "    return np.array(lista)  # Devuelve los resultados como un array de numpy\n",
    "\n",
    "# Ejemplo de uso: Simula 10 experimentos, cada uno con 100 ensayos y probabilidad de éxito 2/3\n"
   ]
  },
  {
   "cell_type": "code",
   "execution_count": 33,
   "id": "82e9ed15",
   "metadata": {},
   "outputs": [
    {
     "data": {
      "text/plain": [
       "69.2"
      ]
     },
     "execution_count": 33,
     "metadata": {},
     "output_type": "execute_result"
    }
   ],
   "source": [
    "binomial(10, 100, 2/3).mean()  # Calcula y muestra el promedio de éxitos"
   ]
  },
  {
   "cell_type": "markdown",
   "id": "bb57f7b3-fe67-4002-b0a6-919dc5a1415a",
   "metadata": {
    "jp-MarkdownHeadingCollapsed": true
   },
   "source": [
    "### Ejercicio 5"
   ]
  },
  {
   "cell_type": "markdown",
   "id": "fb30774a-1d9b-40bd-bcea-0f32f5b5eb1f",
   "metadata": {},
   "source": [
    "Sea $X\\sim BinNeg(r,p)$\n",
    "\n",
    "a) Use la relación de la distribución Binomial Negativa con la geométrica para dar un algoritmo para generar valores de X e implementarlo"
   ]
  },
  {
   "cell_type": "markdown",
   "id": "88a2660b-ef12-44bc-9769-f94a5c152067",
   "metadata": {},
   "source": [
    "Si la geométrica son los ensayos hasta el primer éxito\n",
    "\n",
    "y la binomial negativa es hasta r número de éxitos"
   ]
  },
  {
   "cell_type": "markdown",
   "id": "a985186f",
   "metadata": {},
   "source": [
    "1. **Definición de la función y parámetros**:\n",
    "   - `n`: número de veces que se desea simular el proceso completo.\n",
    "   - `r`: número fijo de éxitos deseado.\n",
    "   - `p`: probabilidad de éxito en cada ensayo.\n",
    "\n",
    "2. **Inicialización de la lista de resultados**: Se crea una lista vacía, `lista`, que almacenará los resultados de cada simulación.\n",
    "\n",
    "3. **Bucle exterior para cada simulación**: Se ejecuta un bucle que itera `n` veces, una por cada simulación completa hasta alcanzar `r` éxitos.\n",
    "\n",
    "4. **Simulación del tiempo hasta `r` éxitos**:\n",
    "   - `bandera`: variable de control para el bucle while.\n",
    "   - `e`: contador de éxitos.\n",
    "   - `en`: acumulador del tiempo hasta alcanzar los éxitos.\n",
    "   - **Bucle While**: Este bucle se ejecuta mientras `bandera` sea igual a 1, lo cual sigue hasta que se alcanzan los `r` éxitos.\n",
    "     - Se genera un número aleatorio `u`.\n",
    "     - Se calcula `q` como el complemento de `p` (probabilidad de fracaso).\n",
    "     - Se calcula `x` utilizando la transformación inversa para la distribución geométrica: `x = ((np.log(u))/(np.log(q)))+1`. Esto estima el número de ensayos hasta el próximo éxito.\n",
    "     - Se acumula `en` con `x`, sumando los ensayos necesarios para alcanzar el siguiente éxito.\n",
    "     - Se incrementa `e`, el contador de éxitos.\n",
    "     - Si `e` alcanza `r`, se detiene el bucle while ajustando `bandera` a 0 y se agrega el valor acumulado de `en` a `lista`.\n",
    "\n",
    "5. **Retorno de resultados**: Al finalizar todas las simulaciones, los resultados acumulados en `lista` se convierten en un array de NumPy y se retorna este array.\n"
   ]
  },
  {
   "cell_type": "code",
   "execution_count": 34,
   "id": "c7a58f30-af87-4acd-9600-a02214d67874",
   "metadata": {},
   "outputs": [],
   "source": [
    "import numpy as np\n",
    "\n",
    "# Función para simular una distribución binomial negativa\n",
    "# n: número de experimentos\n",
    "# r: número de éxitos deseados en cada experimento\n",
    "# p: probabilidad de éxito en cada ensayo\n",
    "def bn(n, r, p):\n",
    "    lista = []  # Lista para almacenar los resultados de cada experimento\n",
    "    for j in range(n):  # Ciclo para realizar n experimentos\n",
    "        bandera = 1  # Variable de control para mantener el bucle mientras no se logren r éxitos\n",
    "        e = 0  # Contador de éxitos acumulados en el experimento\n",
    "        en = 0  # Contador del número total de ensayos realizados\n",
    "        while bandera == 1:  # Mientras no se logren r éxitos\n",
    "            u = np.random.random()  # Genera un número aleatorio entre 0 y 1\n",
    "            q = 1 - p  # Probabilidad de fracaso (1 - p)\n",
    "            # Utiliza la función inversa del logaritmo para simular el número de ensayos hasta el siguiente éxito\n",
    "            x = ((np.log(u)) / (np.log(q))) + 1\n",
    "            en = en + x  # Suma el número de ensayos realizados hasta obtener un éxito\n",
    "            e = e + 1  # Aumenta el contador de éxitos\n",
    "            if e == r:  # Si se han logrado r éxitos, se termina el experimento\n",
    "                bandera = 0  # Cambia la bandera para salir del bucle\n",
    "                lista.append(int(en))  # Añade el número total de ensayos hasta obtener r éxitos a la lista\n",
    "    return np.array(lista)  # Devuelve los resultados como un array de numpy\n",
    "\n",
    "\n"
   ]
  },
  {
   "cell_type": "code",
   "execution_count": 35,
   "id": "47f07831",
   "metadata": {},
   "outputs": [
    {
     "data": {
      "text/plain": [
       "array([17, 19, 16, 21, 24, 26, 21, 43, 26, 22])"
      ]
     },
     "execution_count": 35,
     "metadata": {},
     "output_type": "execute_result"
    }
   ],
   "source": [
    "bn(10,5,1/4)"
   ]
  },
  {
   "cell_type": "markdown",
   "id": "2656baed-6359-4317-b582-0f4a258f3f75",
   "metadata": {},
   "source": [
    "Usando la siguiente relación de la función de probabilidad de la variable aleatoria Binomial Negativa \n",
    "$$p_{i+1}=\\frac{i(i-p)}{i+1-r}p_i$$,\n",
    "para dar un segundo algoritmo e implementarlo"
   ]
  },
  {
   "cell_type": "markdown",
   "id": "3dbf210e",
   "metadata": {},
   "source": [
    "# B)"
   ]
  },
  {
   "cell_type": "markdown",
   "id": "7f9c9ead",
   "metadata": {},
   "source": [
    "1. **Inicialización**: \n",
    "   - `lista = []`: Crea una lista vacía donde se almacenarán los resultados de las simulaciones.\n",
    "   \n",
    "2. **Bucle principal** (`for j in range(n)`):\n",
    "   - Este bucle se ejecuta `n` veces, una por cada simulación que realiza el proceso.\n",
    "   \n",
    "3. **Inicialización de variables dentro del bucle**:\n",
    "   - `pi = (p)**r`: Se calcula la probabilidad de obtener exactamente `r` éxitos seguidos.\n",
    "   - `u = np.random.random()`: Genera un número aleatorio entre 0 y 1 para comparar con la probabilidad acumulada.\n",
    "   - `acumulado = pi`: Inicializa el acumulador de probabilidades con la probabilidad de tener exactamente `r` éxitos.\n",
    "   - `j = r`: Establece el valor inicial de `j` en `r`, que representa el número mínimo de ensayos necesarios para alcanzar `r` éxitos.\n",
    "\n",
    "4. **Bucle While** (`while u > acumulado`):\n",
    "   - Mientras el número aleatorio `u` sea mayor que la probabilidad acumulada, se calculan las probabilidades de tener más de `r` ensayos.\n",
    "   - En cada iteración, se actualiza la probabilidad usando una relación de recurrencia para calcular la probabilidad de necesitar más de `j` ensayos.\n",
    "   - El valor de `j` se incrementa, lo que simula el aumento del número de ensayos necesarios hasta que la probabilidad acumulada supera a `u`.\n",
    "\n",
    "5. **Almacenamiento del resultado** (`lista.append(j - r)`):\n",
    "   - Una vez que el bucle `while` se rompe, se guarda el número de fracasos antes de obtener `r` éxitos (es decir, `j - r`) en la lista.\n",
    "\n",
    "6. **Retorno del resultado** (`return np.array(lista)`):\n",
    "   - Convierte la lista en un array de NumPy y lo retorna como el resultado final de todas las simulaciones."
   ]
  },
  {
   "cell_type": "code",
   "execution_count": 36,
   "id": "c05bb639",
   "metadata": {},
   "outputs": [],
   "source": [
    "import numpy as np\n",
    "\n",
    "# Función para simular una distribución binomial negativa utilizando una relación de recurrencia\n",
    "# n: número de experimentos\n",
    "# r: número de éxitos deseados en cada experimento\n",
    "# p: probabilidad de éxito en cada ensayo\n",
    "def bnb(n, r, p):\n",
    "    lista = []  # Lista para almacenar los resultados de cada experimento\n",
    "    for j in range(n):  # Ciclo para realizar n experimentos\n",
    "        pi = (p)**r  # Inicialización de p_0 (la probabilidad de obtener exactamente r éxitos)\n",
    "        u = np.random.random()  # Genera un número aleatorio entre 0 y 1\n",
    "        acumulado = pi  # Inicializa el acumulado con la probabilidad de obtener r éxitos\n",
    "        j = r  # El valor de j empieza en r (número de éxitos deseados)\n",
    "        \n",
    "        '''\n",
    "        Este es el punto de partida para calcular la probabilidad de tener \n",
    "        exactamente r éxitos y luego incrementar j para calcular las \n",
    "        probabilidades sucesivas usando la relación de recurrencia.\n",
    "        '''\n",
    "        while u > acumulado:  # Mientras el número aleatorio sea mayor que el acumulado de probabilidades\n",
    "            # Relación de recurrencia para calcular la probabilidad de obtener exactamente j ensayos\n",
    "            p_next = ((j * (1 - p)) / (j + 1 - r)) * pi\n",
    "            acumulado = acumulado + p_next  # Incrementa el acumulado con la nueva probabilidad\n",
    "            pi = p_next  # Actualiza la probabilidad para el siguiente ensayo\n",
    "            j = j + 1  # Incrementa j para continuar con el siguiente ensayo\n",
    "        \n",
    "        # Guarda el número de fracasos hasta obtener los r éxitos (j - r)\n",
    "        lista.append(j - r)\n",
    "    \n",
    "    return np.array(lista)  # Devuelve los resultados como un array de numpy\n"
   ]
  },
  {
   "cell_type": "code",
   "execution_count": 37,
   "id": "f1047f01",
   "metadata": {},
   "outputs": [
    {
     "data": {
      "text/plain": [
       "array([20, 22,  3,  6,  4, 18,  3, 13, 36, 19])"
      ]
     },
     "execution_count": 37,
     "metadata": {},
     "output_type": "execute_result"
    }
   ],
   "source": [
    "bnb(10,5,1/4)"
   ]
  },
  {
   "cell_type": "markdown",
   "id": "45b83bfc-233c-4b80-99b5-52bec6334f08",
   "metadata": {},
   "source": [
    "### Ejercicio 6"
   ]
  },
  {
   "cell_type": "markdown",
   "id": "cf4511c6-a10b-415c-b5cc-1ad1b949c1e0",
   "metadata": {},
   "source": [
    "Generar muestras de tamaño 1,000 para $X\\sim Exp(9)$ usando:"
   ]
  },
  {
   "cell_type": "markdown",
   "id": "abfe189a-ba6a-489c-bec4-c803730a469c",
   "metadata": {},
   "source": [
    "a) Aceptación y rechazo"
   ]
  },
  {
   "cell_type": "markdown",
   "id": "c68371a8",
   "metadata": {},
   "source": [
    "1. **Definición de la función y parámetros**:\n",
    "   - `n`: número de muestras que quieres generar usando el método de aceptación-rechazo.\n",
    "\n",
    "2. **Inicialización de variables**:\n",
    "   - `c = 9`: parece ser una constante usada en el cálculo, pero su rol exacto en la fórmula no está claro sin más contexto. Podría ser parte de la densidad objetivo o una constante de normalización.\n",
    "   - `contador`: una lista para almacenar el número de iteraciones necesarias para aceptar cada muestra.\n",
    "\n",
    "3. **Bucle principal para generar las muestras**:\n",
    "   - Se ejecuta un bucle `for` que itera `n` veces, una para cada muestra deseada.\n",
    "\n",
    "4. **Generación y evaluación de candidatos**:\n",
    "   - `bandera`: variable de control para el bucle `while`, que sigue iterando hasta que se genera una muestra válida.\n",
    "   - Dentro del bucle `while`, se generan dos números aleatorios `u1` y `u2`.\n",
    "   - Se calcula `y` como `-((1/9) * np.log(u1))`, lo cual sugiere que estás transformando `u1` usando el método de la transformación inversa, basándote en una distribución exponencial modificada.\n",
    "   - Se calcula `x1` como `(np.exp(8 * y)) / (8.53 * (y ** (8/9)))`. Esta fórmula parece ser la función de densidad de probabilidad de la distribución objetivo o una función relacionada para la comparación en el método de aceptación-rechazo.\n",
    "   - Se incrementa `i`, el contador de intentos para esta muestra.\n",
    "\n",
    "5. **Criterio de aceptación**:\n",
    "   - Si `u2 < x1`, entonces la muestra generada `y` es aceptada como una muestra válida de la distribución deseada.\n",
    "   - `x = u1`: aunque esta línea asigna `u1` a `x`, `x` no se usa posteriormente, lo que podría ser un error o restos de una versión anterior del código.\n",
    "   - Se detiene el bucle `while` estableciendo `bandera` a 0.\n",
    "   - Se agrega el valor de `i` (número de intentos necesarios) a la lista `contador`.\n",
    "\n",
    "6. **Retorno y cálculo de la media**:\n",
    "   - Se retorna el array `contador` con el número de intentos necesarios para cada muestra.\n",
    "   - Fuera de la función, se llama a `.mean()` sobre este array para calcular la media del número de intentos necesarios para aceptar cada muestra.\n"
   ]
  },
  {
   "cell_type": "code",
   "execution_count": 5,
   "id": "4f038e18",
   "metadata": {},
   "outputs": [],
   "source": [
    "import numpy as np\n",
    "\n",
    "# Función para realizar la validación mediante simulación\n",
    "# n: número de simulaciones a realizar\n",
    "def validacion4(n):\n",
    "    c = 0.2233  # Constante utilizada para el cálculo de y\n",
    "    contador = []  # Lista para almacenar las iteraciones necesarias en cada simulación\n",
    "\n",
    "    for j in range(n):  # Bucle que realiza n simulaciones\n",
    "        i = 0  # Contador de iteraciones para cada simulación\n",
    "        bandera = 1  # Variable de control para el bucle while\n",
    "        \n",
    "        while bandera == 1:  # Bucle que sigue hasta que se acepta un valor\n",
    "            u1 = np.random.random()  # Genera un número aleatorio entre 0 y 1\n",
    "            y = -((1/9) * np.log(u1))  # Calcula el valor de y utilizando una transformación logarítmica\n",
    "            \n",
    "            u2 = np.random.random()  # Genera otro número aleatorio entre 0 y 1\n",
    "            i += 1  # Incrementa el contador de iteraciones\n",
    "            \n",
    "            # Calcula la función de aceptación/rechazo para x1\n",
    "            x1 = (np.exp(8*y)) / (17.1517 * (y**(8/9)))  \n",
    "            \n",
    "            # Condición de aceptación: si u2 es menor que x1, acepta el valor\n",
    "            if u2 < x1:\n",
    "                x = u1  # Almacena el valor de u1 (aunque no se utiliza más adelante)\n",
    "                bandera = 0  # Cambia la bandera para salir del bucle while\n",
    "                contador.append(i)  # Guarda el número de iteraciones en la lista\n",
    "                \n",
    "    return np.array(contador)  # Devuelve los resultados como un array de numpy\n",
    "\n"
   ]
  },
  {
   "cell_type": "code",
   "execution_count": 6,
   "id": "bc76a52e",
   "metadata": {},
   "outputs": [
    {
     "data": {
      "text/plain": [
       "1.0"
      ]
     },
     "execution_count": 6,
     "metadata": {},
     "output_type": "execute_result"
    }
   ],
   "source": [
    "validacion4(1000).mean()"
   ]
  },
  {
   "cell_type": "code",
   "execution_count": 42,
   "id": "8969e6f0",
   "metadata": {},
   "outputs": [],
   "source": [
    "import math"
   ]
  },
  {
   "cell_type": "code",
   "execution_count": 43,
   "id": "6ddb41a7",
   "metadata": {},
   "outputs": [
    {
     "data": {
      "text/plain": [
       "8.522688139219477"
      ]
     },
     "execution_count": 43,
     "metadata": {},
     "output_type": "execute_result"
    }
   ],
   "source": [
    "math.gamma(1/9)"
   ]
  },
  {
   "cell_type": "markdown",
   "id": "f3841eb8-1738-4a5b-be73-ad35ca695fca",
   "metadata": {},
   "source": [
    "b) Tranformada inversa"
   ]
  },
  {
   "cell_type": "markdown",
   "id": "eda23a1b",
   "metadata": {},
   "source": [
    "\n",
    "1. **Definición de la función y parámetros**:\n",
    "   - `n`: número de muestras que deseas generar de la distribución exponencial.\n",
    "\n",
    "2. **Inicialización de la lista de resultados**:\n",
    "   - `lista`: una lista vacía donde se almacenarán los valores generados.\n",
    "\n",
    "3. **Bucle para generar las muestras**:\n",
    "   - Se ejecuta un bucle `for` que itera `n` veces, una para cada muestra a generar.\n",
    "\n",
    "4. **Generación de la muestra exponencial**:\n",
    "   - En cada iteración, se genera un número aleatorio `u` entre 0 y 1.\n",
    "   - Se calcula `x` utilizando la transformación inversa para la distribución exponencial con una tasa modificada. La fórmula `-((1/9)*np.log(1-u))` transforma el número aleatorio uniforme `u` en un número que sigue una distribución exponencial con un parámetro \\(\\lambda = \\frac{1}{9}\\).\n",
    "   - La función `log` se aplica a `1-u` en lugar de `u` para mantener `u` dentro del rango apropiado (evitando el logaritmo de cero), que es una práctica común en simulaciones para evitar valores indefinidos.\n",
    "\n",
    "5. **Almacenamiento de la muestra**:\n",
    "   - Cada valor de `x` generado se añade a la lista `lista`.\n",
    "\n",
    "6. **Retorno del resultado**:\n",
    "   - Al final del bucle, se convierte la lista `lista` en un array de NumPy y se retorna este array.\n",
    "\n",
    "7. **Cálculo de la media**:\n",
    "   - Fuera de la función, se llama a `.mean()` sobre el array resultante para calcular la media de las muestras generadas.\n"
   ]
  },
  {
   "cell_type": "code",
   "execution_count": 44,
   "id": "7ea2c8dd",
   "metadata": {},
   "outputs": [],
   "source": [
    "import numpy as np\n",
    "\n",
    "# Función para generar muestras de una distribución exponencial modificada\n",
    "# n: número de muestras a generar\n",
    "def exp(n):\n",
    "    lista = []  # Lista para almacenar las muestras generadas\n",
    "    for a in range(n):  # Bucle para generar n muestras\n",
    "        u = np.random.random()  # Genera un número aleatorio uniforme entre 0 y 1\n",
    "        # Aplica la transformación inversa de la función de distribución acumulativa (CDF) de la distribución exponencial\n",
    "        x = -((1/9) * np.log(1 - u))  # Calcula el valor de x a partir de la transformación\n",
    "        lista.append(x)  # Almacena el valor generado en la lista\n",
    "    return np.array(lista)  # Devuelve las muestras como un array de numpy\n"
   ]
  },
  {
   "cell_type": "code",
   "execution_count": 45,
   "id": "c75e57a5",
   "metadata": {},
   "outputs": [
    {
     "data": {
      "text/plain": [
       "0.1116694286015368"
      ]
     },
     "execution_count": 45,
     "metadata": {},
     "output_type": "execute_result"
    }
   ],
   "source": [
    "exp(1000).mean()"
   ]
  },
  {
   "cell_type": "markdown",
   "id": "596e1e3c-6cf8-4dc7-9900-9eca1d25de11",
   "metadata": {},
   "source": [
    "c) ¿Qué método considera mejor y por qué?"
   ]
  },
  {
   "cell_type": "markdown",
   "id": "0f396607",
   "metadata": {},
   "source": [
    "Depende del problema completamente"
   ]
  },
  {
   "cell_type": "markdown",
   "id": "1f90b2a0",
   "metadata": {},
   "source": [
    "con transformada inversa es rapido para programar y tambien en cuestion de algrebra es mas rapido, pero si es complejo el problema al intentar la inversa algunas es muy complicado, por ello es que el de aceptacion y rechazo seria un opcion viable en algunos casos, es mas tardado pero tambien funciona"
   ]
  },
  {
   "cell_type": "markdown",
   "id": "f60a9b8d",
   "metadata": {},
   "source": [
    "Si el objetivo es simplemente simular una distribución exponencial, el código de transformada es claramente mejor debido a su simplicidad y eficiencia,es más rápido y directo, y garantiza la generación de muestras con menos cálculos.\n",
    "\n",
    "Si el objetivo es simular una distribución más compleja para la cual no existe un método directo de muestreo, entonces el código de aceptacion y rechazo sería necesario, a pesar de su menor eficiencia y mayor complejidad. Sin embargo, en un contexto directamente comparativo con el propósito de simular una distribución exponencial, el código de inversa es superior"
   ]
  },
  {
   "cell_type": "markdown",
   "id": "0b193b80-4c39-4718-882a-12d0fd0e832a",
   "metadata": {
    "jp-MarkdownHeadingCollapsed": true
   },
   "source": [
    "### Ejercicio 7"
   ]
  },
  {
   "cell_type": "markdown",
   "id": "8020fda1-a65d-4ece-bb98-fc06b8853904",
   "metadata": {},
   "source": [
    "Implementar un algoritmo para la distribución Gamma con parámetros:\n"
   ]
  },
  {
   "cell_type": "markdown",
   "id": "9ef703d4-474d-4fa4-8815-c50338c7a09e",
   "metadata": {},
   "source": [
    "(a) Gama (1.5,3)"
   ]
  },
  {
   "cell_type": "markdown",
   "id": "1498932d-e858-49ab-bfd1-fd0c075819bf",
   "metadata": {},
   "source": [
    "$$\n",
    "f\\left(x\\right)=\\frac{6\\sqrt{3x}}{\\sqrt{\\pi }\\cdot e^{3x}}\n",
    "$$\n",
    "$$\n",
    "g\\left(x\\right)=\\frac{2}{e^{2x}}\n",
    "$$\n",
    "$$\n",
    "\\frac{f\\left(x\\right)}{g\\left(x\\right)}=\\frac{3\\sqrt{3x}}{\\sqrt{\\pi }\\cdot e^x}\n",
    "$$\n",
    "$$ c=1.26$$\n",
    "$$\n",
    "\\frac{f\\left(x\\right)}{g\\left(x\\right)}=\\frac{3\\sqrt{3x}}{1.26\\cdot \\sqrt{\\pi \\:}\\cdot \\:e^x}\n",
    "$$"
   ]
  },
  {
   "cell_type": "markdown",
   "id": "cee5b2cb",
   "metadata": {},
   "source": [
    "1. **Simulación**:\n",
    "   - Un bucle exterior que se ejecuta `n` veces para generar `n` muestras aceptadas.\n",
    "   - Un bucle `while` interior que continúa hasta que se genera una muestra que se acepta según el criterio de aceptación-rechazo.\n",
    "\n",
    "2. **Generación y Evaluación de Candidatos**:\n",
    "   - `u1`: Un número aleatorio que se usa para generar un valor de `y` mediante una transformación que sugiere una base exponencial modificada.\n",
    "   - `y`: Calculado como `-((1/2)*(np.log(u1)))`, que simula una distribución exponencial con un parámetro \\(\\lambda = 1/2\\).\n",
    "   - `u2`: Un segundo número aleatorio usado para el criterio de aceptación.\n",
    "   - `x1`: La función de densidad que se evalúa en `y`, parece diseñada para simular una distribución más complicada, posiblemente alguna función que involucre una transformación con exponencial y términos de raíz cuadrada, lo que puede ser una densidad objetivo específica.\n",
    "\n",
    "3. **Criterio de Aceptación**:\n",
    "   - Si `u2` es menor que `x1`, entonces el candidato generado es aceptado.\n",
    "   - `x = u1`: Nuevamente, aunque esta línea asigna `u1` a `x`, el valor de `x` no se usa en el resto del código, lo que podría ser un remanente de versiones anteriores o planificaciones para expansiones futuras del código.\n",
    "\n",
    "4. **Almacenamiento y Retorno**:\n",
    "   - Se registra el número de iteraciones necesarias para cada muestra aceptada.\n",
    "   - Se retorna el array de estos valores y, finalmente, se calcula la media de estos valores para determinar el número promedio de intentos necesarios por muestra.\n",
    "\n"
   ]
  },
  {
   "cell_type": "code",
   "execution_count": 9,
   "id": "2579955c",
   "metadata": {},
   "outputs": [],
   "source": [
    "import numpy as np\n",
    "\n",
    "# Función para realizar una validación mediante el método de aceptación-rechazo\n",
    "# n: número de simulaciones a realizar\n",
    "def validacion2(n):\n",
    "    c = 1.2  # Constante utilizada para el cálculo de y\n",
    "    #c= (3*((3/2)**(1/2)))/((np.pi)**(1/2)*np.exp(1/2))\n",
    "    contador = []  # Lista para almacenar el número de iteraciones necesarias en cada simulación\n",
    "\n",
    "    for j in range(n):  # Bucle que realiza n simulaciones\n",
    "        i = 0  # Contador de iteraciones para cada simulación\n",
    "        bandera = 1  # Variable de control para el bucle while\n",
    "        \n",
    "        while bandera == 1:  # Mientras no se acepte un valor, el bucle continúa\n",
    "            u1 = np.random.random()  # Genera un número aleatorio uniforme entre 0 y 1\n",
    "            y = -((1/2) * np.log(u1))  # Cálculo de y utilizando una transformación logarítmica\n",
    "            \n",
    "            u2 = np.random.random()  # Genera otro número aleatorio entre 0 y 1\n",
    "            i += 1  # Incrementa el contador de iteraciones\n",
    "            \n",
    "            # Calcula la función de aceptación/rechazo para x1\n",
    "            x1 = (3 * ((3 * y)**(1/2))) / (((np.pi)**(1/2)) * np.exp(y)*1.26)  \n",
    "            \n",
    "            # Condición de aceptación: si u2 es menor que x1, acepta el valor\n",
    "            if u2 < x1:\n",
    "                x = u1  # Almacena el valor de u1 (aunque no se utiliza más adelante)\n",
    "                bandera = 0  # Cambia la bandera para salir del bucle while\n",
    "                contador.append(i)  # Guarda el número de iteraciones en la lista\n",
    "\n",
    "    return np.array(contador)  # Devuelve los resultados como un array de numpy\n"
   ]
  },
  {
   "cell_type": "code",
   "execution_count": 10,
   "id": "bc566f4f",
   "metadata": {},
   "outputs": [
    {
     "data": {
      "text/plain": [
       "1.26013"
      ]
     },
     "execution_count": 10,
     "metadata": {},
     "output_type": "execute_result"
    }
   ],
   "source": [
    "validacion2(100000).mean() "
   ]
  },
  {
   "cell_type": "markdown",
   "id": "f16858f5-9436-4724-8230-b1d1db4dbd32",
   "metadata": {},
   "source": [
    "b) Gama(1/2,6)"
   ]
  },
  {
   "cell_type": "markdown",
   "id": "18de0145-73a8-4bdb-ab1a-b9947d75642f",
   "metadata": {},
   "source": [
    "$$\n",
    "f\\left(x\\right)=\\frac{6}{\\sqrt{6\\cdot \\pi \\cdot x}\\cdot \\:e^{6x}}\n",
    "$$\n",
    "$$\n",
    "g\\left(x\\right)=\\frac{12}{e^{12x}}\n",
    "$$\n",
    "$$\n",
    "\\frac{f\\left(x\\right)}{g\\left(x\\right)}=\\frac{e^{6x}}{2\\cdot \\:\\:\\sqrt{6\\cdot \\pi \\cdot x}}\n",
    "$$\n",
    "$$\n",
    "\\frac{f\\left(x\\right)}{cg\\left(x\\right)}=\\frac{e^{6x}}{1.32\\cdot \\sqrt{6\\pi \\:x}}\n",
    "$$\n",
    "$$ c=0.66 $$"
   ]
  },
  {
   "cell_type": "markdown",
   "id": "87811c77",
   "metadata": {},
   "source": [
    "1. **Bucle de simulación**:\n",
    "   - Un bucle `for` que se ejecuta `n` veces, donde `n` es el número de muestras que se desean generar.\n",
    "   - Dentro de este bucle, se utiliza un bucle `while` para intentar generar una única muestra aceptada por iteración.\n",
    "\n",
    "2. **Generación y evaluación de candidatos**:\n",
    "   - `u1`: Número aleatorio usado para generar `y` mediante una transformación inversa basada en una distribución exponencial con parámetro modificado (`1/12`).\n",
    "   - `y`: Calculado como `-((1/12) * np.log(u1))`, simulando una distribución exponencial donde el número representa el tiempo o la magnitud hasta un evento.\n",
    "   - `u2`: Un segundo número aleatorio para el criterio de aceptación.\n",
    "   - `x1`: La función de densidad evaluada en `y`, diseñada para simular una densidad objetivo más compleja. En este caso, parece estar relacionada con alguna forma de distribución que incluye términos exponenciales y de raíz cuadrada, tal vez ajustada para distribuciones con un sesgo o comportamiento particular.\n",
    "\n",
    "3. **Criterio de aceptación**:\n",
    "   - Se verifica si `u2 < x1`. Si es verdadero, el candidato generado `y` es aceptado como una muestra válida de la distribución objetivo.\n",
    "   - `x = u1`: Aunque se asigna `u1` a `x`, el valor `x` no se utiliza en otras operaciones, lo que sugiere que podría ser parte de una estructura de código más grande o un remanente de versiones anteriores.\n",
    "\n",
    "4. **Registro y retorno**:\n",
    "   - Si un candidato es aceptado, se registra el número de iteraciones necesarias para aceptar la muestra en la lista `contador`.\n",
    "   - Una vez completadas todas las simulaciones, se convierte la lista en un array de NumPy y se retorna.\n",
    "\n",
    "5. **Cálculo de la media**:\n",
    "   - Se calcula la media del array para obtener el número promedio de intentos necesarios para aceptar una muestra. Este valor proporciona una medida de la eficiencia del método de aceptación-rechazo dado la función propuesta y la densidad objetivo.\n"
   ]
  },
  {
   "cell_type": "code",
   "execution_count": 11,
   "id": "6b67a4f5",
   "metadata": {},
   "outputs": [],
   "source": [
    "import numpy as np\n",
    "\n",
    "# Función para realizar una validación mediante el método de aceptación-rechazo\n",
    "# n: número de simulaciones a realizar\n",
    "def validacion3(n):\n",
    "    c = .66  # Constante utilizada para el cálculo de y\n",
    "    contador = []  # Lista para almacenar el número de iteraciones necesarias en cada simulación\n",
    "\n",
    "    for j in range(n):  # Bucle que realiza n simulaciones\n",
    "        i = 0  # Contador de iteraciones para cada simulación\n",
    "        bandera = 1  # Variable de control para el bucle while\n",
    "        \n",
    "        while bandera == 1:  # Mientras no se acepte un valor, el bucle continúa\n",
    "            u1 = np.random.random()  # Genera un número aleatorio uniforme entre 0 y 1\n",
    "            y = -((1/12) * np.log(u1))  # Cálculo de y utilizando una transformación logarítmica\n",
    "            \n",
    "            u2 = np.random.random()  # Genera otro número aleatorio entre 0 y 1\n",
    "            i += 1  # Incrementa el contador de iteraciones\n",
    "            \n",
    "            # Calcula la función de aceptación/rechazo para x1\n",
    "            x1 = ( (np.exp(6 * y))) / ((((np.pi) * 6 * y)**(1/2))*1.32)  \n",
    "            \n",
    "            # Condición de aceptación: si u2 es menor que x1, acepta el valor\n",
    "            if u2 < x1:\n",
    "                x = u1  # Almacena el valor de u1 (aunque no se utiliza más adelante)\n",
    "                bandera = 0  # Cambia la bandera para salir del bucle while\n",
    "                contador.append(i)  # Guarda el número de iteraciones en la lista\n",
    "\n",
    "    return np.array(contador)  # Devuelve los resultados como un array de numpy\n"
   ]
  },
  {
   "cell_type": "code",
   "execution_count": 12,
   "id": "855254a9",
   "metadata": {},
   "outputs": [
    {
     "data": {
      "text/plain": [
       "1.0"
      ]
     },
     "execution_count": 12,
     "metadata": {},
     "output_type": "execute_result"
    }
   ],
   "source": [
    "validacion3(1000).mean()"
   ]
  },
  {
   "cell_type": "markdown",
   "id": "7b787320-e2d3-4bdc-a321-1c3fc7e8827c",
   "metadata": {},
   "source": [
    "### Ejercicio 8"
   ]
  },
  {
   "cell_type": "markdown",
   "id": "fd475480-dc92-4a4d-ab8b-d4333e7621bd",
   "metadata": {},
   "source": [
    "Implementar el algoritmo para la distribución Beta(1,2.3)"
   ]
  },
  {
   "cell_type": "markdown",
   "id": "75633773-bfec-47e2-9a7e-82893ada5d15",
   "metadata": {},
   "source": [
    "1. Función de densidad de la distribución Beta con parámetros 1 y 2.3:\n",
    "$$f(x)=\\frac{(1-x)^{1.3}}{B(1,2.3)}$$\n",
    "\n",
    "2. Dado que no se específica la función g(x), se define a la función como:\n",
    "$$g(x)=1,\\hspace{0.2cm} 0 \\le x \\le1$$\n",
    "4.  Determinamos el valor de la contante c, en el que hacemos la división de:\n",
    "$$\\frac{f(x)}{g(x)} \\le c$$,\n",
    "Donde mi valor máximo es 1, por la manera en que se encuentra definida la función de densidad, entonces, $c=1$\n",
    "6. Generamos números aleatorios $U_{1}$, $U_{2}$\n",
    "7. Se realiza la compración de $U_{2}<\\frac{f(x)}{cg(x)}$, donde el resultado del cociente de la funciones se obtendrá que ingresar en el argumento el valor aleatorio U1, en caso de que se cumpla la condicióN se realiza $X=U_{1}$\n",
    "8. En caso de que no se cumpla la condición, se regresa al paso 6. Para generar nuevos números aleatorios."
   ]
  },
  {
   "cell_type": "code",
   "execution_count": 50,
   "id": "e6926ea8",
   "metadata": {},
   "outputs": [
    {
     "name": "stdout",
     "output_type": "stream",
     "text": [
      "Ingresa el número de simulaciones:1000\n",
      "0.7950704463439532\n"
     ]
    },
    {
     "data": {
      "text/plain": [
       "array([1, 1, 1, 1, 1, 1, 1, 3, 1, 1, 1, 1, 1, 1, 2, 1, 3, 1, 1, 1, 2, 1,\n",
       "       2, 1, 1, 2, 1, 1, 1, 1, 1, 1, 1, 2, 1, 1, 3, 2, 1, 1, 1, 1, 1, 1,\n",
       "       1, 1, 1, 1, 1, 1, 2, 1, 1, 2, 1, 1, 1, 1, 1, 1, 1, 3, 1, 1, 1, 2,\n",
       "       1, 2, 1, 1, 1, 3, 1, 2, 2, 1, 4, 2, 1, 1, 1, 2, 3, 2, 1, 2, 1, 1,\n",
       "       2, 1, 1, 1, 2, 1, 2, 4, 1, 1, 1, 1, 1, 1, 1, 2, 2, 1, 2, 1, 1, 1,\n",
       "       4, 2, 1, 3, 1, 1, 2, 1, 1, 2, 1, 1, 1, 1, 1, 2, 2, 1, 1, 1, 1, 1,\n",
       "       1, 1, 4, 1, 2, 2, 1, 1, 2, 1, 2, 2, 1, 2, 1, 1, 2, 2, 1, 2, 1, 2,\n",
       "       3, 1, 1, 1, 1, 1, 1, 1, 1, 2, 1, 1, 1, 1, 1, 1, 1, 1, 1, 1, 1, 1,\n",
       "       1, 1, 2, 2, 1, 1, 1, 2, 1, 1, 1, 1, 1, 1, 1, 2, 1, 1, 2, 1, 2, 1,\n",
       "       1, 1, 3, 2, 1, 1, 1, 2, 1, 1, 1, 2, 2, 1, 3, 1, 1, 2, 1, 1, 1, 1,\n",
       "       1, 2, 1, 3, 3, 2, 2, 2, 1, 3, 1, 1, 1, 1, 1, 1, 1, 1, 1, 1, 3, 1,\n",
       "       2, 1, 1, 2, 2, 1, 1, 1, 1, 1, 1, 1, 2, 2, 1, 3, 1, 3, 1, 3, 1, 3,\n",
       "       1, 2, 3, 2, 3, 1, 1, 1, 3, 2, 1, 1, 1, 2, 1, 3, 1, 1, 1, 1, 1, 2,\n",
       "       2, 1, 1, 5, 1, 1, 1, 1, 2, 2, 1, 1, 2, 1, 2, 1, 2, 1, 2, 1, 1, 1,\n",
       "       2, 3, 1, 2, 1, 1, 3, 1, 1, 1, 1, 2, 1, 1, 2, 1, 1, 1, 1, 2, 1, 1,\n",
       "       1, 2, 3, 1, 1, 1, 1, 1, 1, 1, 1, 1, 1, 2, 1, 2, 1, 1, 2, 2, 1, 1,\n",
       "       2, 1, 1, 3, 2, 1, 1, 1, 1, 1, 2, 1, 1, 1, 2, 1, 1, 1, 1, 2, 1, 1,\n",
       "       2, 1, 4, 1, 1, 1, 1, 1, 1, 1, 1, 1, 1, 1, 1, 1, 1, 1, 1, 1, 2, 2,\n",
       "       2, 1, 2, 3, 1, 1, 2, 1, 1, 1, 2, 2, 1, 1, 1, 2, 1, 1, 2, 2, 3, 3,\n",
       "       3, 1, 1, 1, 1, 1, 2, 1, 1, 1, 1, 1, 1, 2, 1, 1, 2, 1, 1, 3, 1, 2,\n",
       "       1, 1, 1, 1, 2, 1, 2, 1, 1, 1, 1, 1, 1, 1, 2, 1, 2, 1, 3, 1, 2, 1,\n",
       "       1, 1, 1, 1, 1, 1, 1, 1, 1, 1, 2, 1, 1, 2, 3, 1, 1, 1, 1, 1, 1, 1,\n",
       "       1, 1, 5, 2, 1, 1, 2, 1, 1, 1, 1, 1, 3, 1, 1, 1, 1, 1, 1, 2, 2, 3,\n",
       "       2, 2, 1, 1, 2, 1, 2, 1, 1, 1, 1, 1, 2, 1, 1, 1, 1, 3, 2, 1, 1, 2,\n",
       "       1, 2, 3, 2, 1, 2, 1, 2, 1, 1, 2, 2, 1, 1, 1, 1, 4, 1, 2, 3, 2, 1,\n",
       "       3, 1, 2, 1, 1, 1, 1, 1, 2, 1, 2, 3, 2, 1, 1, 1, 1, 1, 1, 2, 1, 2,\n",
       "       2, 1, 2, 1, 1, 1, 1, 4, 1, 3, 1, 3, 1, 1, 1, 1, 2, 1, 2, 1, 3, 1,\n",
       "       1, 2, 1, 1, 2, 3, 2, 2, 1, 1, 3, 2, 2, 1, 1, 1, 1, 1, 1, 1, 1, 1,\n",
       "       1, 1, 1, 1, 1, 1, 1, 4, 1, 1, 1, 2, 1, 1, 1, 1, 1, 2, 1, 1, 1, 1,\n",
       "       1, 2, 1, 1, 1, 1, 1, 6, 2, 1, 2, 2, 3, 2, 3, 1, 1, 1, 1, 1, 5, 1,\n",
       "       1, 1, 3, 1, 5, 2, 1, 1, 4, 1, 2, 1, 1, 2, 2, 1, 1, 1, 1, 2, 1, 2,\n",
       "       1, 3, 1, 1, 3, 1, 1, 3, 1, 1, 1, 4, 1, 1, 1, 1, 4, 2, 2, 1, 1, 5,\n",
       "       3, 3, 1, 1, 1, 1, 1, 1, 1, 3, 1, 2, 1, 1, 1, 1, 1, 1, 1, 1, 1, 1,\n",
       "       1, 1, 2, 1, 1, 1, 1, 1, 1, 2, 2, 1, 2, 1, 1, 1, 1, 1, 2, 1, 1, 1,\n",
       "       3, 1, 1, 1, 1, 3, 1, 1, 1, 2, 1, 1, 1, 1, 1, 1, 1, 2, 1, 1, 1, 2,\n",
       "       1, 2, 2, 1, 1, 1, 2, 1, 1, 1, 1, 3, 1, 1, 1, 1, 1, 1, 1, 2, 1, 1,\n",
       "       5, 1, 1, 2, 1, 1, 1, 1, 1, 1, 1, 1, 2, 2, 1, 1, 1, 1, 1, 1, 1, 2,\n",
       "       1, 1, 5, 1, 2, 1, 3, 1, 1, 1, 1, 1, 1, 1, 1, 1, 1, 1, 1, 1, 1, 2,\n",
       "       1, 2, 1, 1, 1, 1, 1, 1, 2, 1, 3, 1, 2, 1, 1, 1, 1, 2, 1, 1, 1, 1,\n",
       "       1, 1, 1, 1, 1, 1, 1, 1, 4, 1, 1, 1, 1, 1, 1, 1, 1, 1, 1, 1, 2, 2,\n",
       "       3, 3, 1, 5, 2, 1, 3, 2, 1, 1, 1, 2, 1, 1, 1, 1, 1, 1, 2, 1, 1, 1,\n",
       "       1, 2, 1, 1, 2, 1, 2, 1, 1, 1, 1, 1, 1, 1, 1, 2, 1, 1, 1, 1, 3, 1,\n",
       "       1, 1, 1, 1, 1, 2, 1, 1, 1, 1, 3, 1, 1, 2, 1, 1, 1, 2, 3, 1, 1, 1,\n",
       "       1, 1, 1, 1, 1, 1, 3, 1, 2, 1, 1, 1, 1, 1, 1, 1, 1, 2, 1, 2, 1, 1,\n",
       "       4, 5, 4, 1, 2, 1, 4, 1, 1, 1, 1, 2, 2, 2, 1, 1, 1, 4, 1, 1, 2, 1,\n",
       "       1, 1, 5, 1, 1, 1, 1, 1, 1, 1])"
      ]
     },
     "execution_count": 50,
     "metadata": {},
     "output_type": "execute_result"
    }
   ],
   "source": [
    "import numpy as np\n",
    "\n",
    "# Función para realizar simulaciones utilizando el método de aceptación-rechazo\n",
    "# sim: número de simulaciones a realizar\n",
    "def val_b(sim):\n",
    "    lista = []  # Lista para almacenar el número de iteraciones por simulación\n",
    "    for a in range(sim):  # Bucle que realiza sim simulaciones\n",
    "        i = 0  # Contador de iteraciones por simulación\n",
    "        bandera = 1  # Variable de control para el bucle while\n",
    "        \n",
    "        while bandera == 1:  # El bucle se repite hasta que se acepte un valor\n",
    "            u1 = np.random.random()  # Genera un número aleatorio uniforme entre 0 y 1\n",
    "            u2 = np.random.random()  # Genera otro número aleatorio uniforme entre 0 y 1\n",
    "            i += 1  # Incrementa el contador de iteraciones\n",
    "            \n",
    "            # Verifica la condición de aceptación: si u2 es menor o igual a la expresión (2.3 * (1 - u1)^1.3)\n",
    "            if u2 <= (2.3 * (1 - u1)**1.3):\n",
    "                x = u1  # Almacena el valor aceptado de u1 (aunque solo lo imprime y no se usa más adelante)\n",
    "                bandera = 0  # Cambia la bandera para salir del bucle while\n",
    "                lista.append(i)  # Guarda el número de iteraciones en la lista\n",
    "\n",
    "    print(x)  # Imprime el último valor de u1 aceptado\n",
    "    return np.array(lista)  # Devuelve los resultados como un array de numpy\n",
    "\n",
    "\n",
    "# Solicita al usuario que ingrese el número de simulaciones\n",
    "sim = int(input(\"Ingresa el número de simulaciones:\"))\n",
    "val_b(sim)  # Llama a la función val_b con el número de simulaciones\n"
   ]
  },
  {
   "cell_type": "code",
   "execution_count": 51,
   "id": "613b7653-d627-4824-b99e-8746f9fec3b2",
   "metadata": {},
   "outputs": [
    {
     "name": "stdout",
     "output_type": "stream",
     "text": [
      "0.6463039371629098\n"
     ]
    },
    {
     "data": {
      "text/plain": [
       "1.42"
      ]
     },
     "execution_count": 51,
     "metadata": {},
     "output_type": "execute_result"
    }
   ],
   "source": [
    "val_b(sim).mean()"
   ]
  },
  {
   "cell_type": "markdown",
   "id": "5f687b3b-f380-4cdd-9845-ab2a6b6a861a",
   "metadata": {
    "jp-MarkdownHeadingCollapsed": true
   },
   "source": [
    "### Ejercicio 9"
   ]
  },
  {
   "cell_type": "markdown",
   "id": "3470b1cb-7124-47e2-869f-df8a1b0f3468",
   "metadata": {},
   "source": [
    "Considere la siguiente función de distribución acumulada\n",
    "$$F(x) = x^{x}, \\hspace{0.3cm}0\\le x\\le 1$$"
   ]
  },
  {
   "cell_type": "markdown",
   "id": "c52b8c26-44e9-4cd9-81cb-709f5d0856b8",
   "metadata": {},
   "source": [
    "(a) Aplique el método de la transformada inversa para dar un algoritmo que simule una variable aleatoria con la función de distribución anterior"
   ]
  },
  {
   "cell_type": "markdown",
   "id": "d855122d-3802-4bb5-a8a5-cfab8aed6810",
   "metadata": {},
   "source": [
    "1. Se obtiene la función inversa de la función de distribución:\n",
    "$$u=F(x)=x^{n}\\hspace{0.3cm} \\Rightarrow\\hspace{0.3cm}u = x^{n} \\hspace{0.3cm}\\Rightarrow \\hspace{0.3cm}x =u^{\\frac{1}{n}}$$\n",
    "\n",
    "2. Generamos un número aleatorio\n",
    "3. Se ingresa el número aleatorio a la función $$\\hspace{0.2cm}X=U^{\\frac{1}{n}}$$\n",
    "4. El valor de x,, será el valor de la variable"
   ]
  },
  {
   "cell_type": "code",
   "execution_count": 12,
   "id": "17d127c9-4458-4c0c-a883-2ee33af5f4c5",
   "metadata": {},
   "outputs": [
    {
     "name": "stdin",
     "output_type": "stream",
     "text": [
      "Ingresa el valor de la potencia n: 10\n",
      "Ingresa el número de simulaciones: 10000\n"
     ]
    },
    {
     "data": {
      "text/plain": [
       "array([0.91017329, 0.83745448, 0.99192329, ..., 0.64314704, 0.9647508 ,\n",
       "       0.98857269])"
      ]
     },
     "execution_count": 12,
     "metadata": {},
     "output_type": "execute_result"
    }
   ],
   "source": [
    "def potencia(n,sim):  #Función para hacer las gamas\n",
    "    lista = []\n",
    "    for i in range(sim):\n",
    "        u = np.random.random() #Simulamos un número aleatorio\n",
    "        x = u**(1/n)  #Opreción u a la 1/n\n",
    "        lista.append(x)  #Guardamos cada valor en un lista\n",
    "    return np.array(lista)\n",
    "\n",
    "n=int(input(\"Ingresa el valor de la potencia n:\"))\n",
    "sim=int(input(\"Ingresa el número de simulaciones:\"))\n",
    "potencia(n,sim)"
   ]
  },
  {
   "cell_type": "markdown",
   "id": "83150de3-da12-4a2c-ae20-2d9c2fd1972e",
   "metadata": {},
   "source": [
    "(b) Aplique el método de acpetación y rechazo"
   ]
  },
  {
   "cell_type": "markdown",
   "id": "5bc11466-e77d-4768-9bc4-e8450c99de67",
   "metadata": {},
   "source": [
    "1. Dado que tenemos una función de distribución, es necesario derivar para obtener la función de densidad:\n",
    "$$\\frac{d}{dx}x^{n} = n x^{n-1}\\Rightarrow f(x)=n x^{n-1}$$\n",
    "\n",
    "2. Dado que no se específica la función g(x), se define a la función como:\n",
    "$$g(x)=1,\\hspace{0.2cm} 0 \\le x \\le1$$\n",
    "4.  Determinamos el valor de la contante c, en el que hacemos la división de:\n",
    "$$\\frac{f(x)}{g(x)} \\le c$$,\n",
    "Donde\n",
    "$$\\frac{f(x)}{g(x)}  \\Rightarrow \\frac{nx^{n-1}}{1} = n x^{n-1}$$\n",
    "Donde mi valor máximo es 1, por la manera en que se encuentra definida la función de densidad, entonces, $c=1$\n",
    "6. Generamos números aleatorios $U_{1}$, $U_{2}$\n",
    "7. Se realiza la compración de $U_{2}<\\frac{f(x)}{cg(x)}$, donde el resultado del cociente de la funciones se obtendrá que ingresar en el argumento el valor aleatorio U1, en caso de que se cumpla la condicióN se realiza $X=U_{1}$\n",
    "8. En caso de que no se cumpla la condición, se regresa al paso 6. Para generar nuevos números aleatorios."
   ]
  },
  {
   "cell_type": "code",
   "execution_count": 53,
   "id": "21b3184a",
   "metadata": {},
   "outputs": [
    {
     "name": "stdout",
     "output_type": "stream",
     "text": [
      "Ingresa el valor de n:10\n",
      "Ingresa el número de simulaciones:1000\n",
      "0.9679341073051992\n"
     ]
    },
    {
     "data": {
      "text/plain": [
       "array([ 5,  1,  3,  5,  2,  6,  9,  5,  1, 11,  2,  2,  2,  1,  7,  2,  8,\n",
       "        4,  4, 11, 10,  2,  7,  5,  1,  4,  1,  4,  5,  2,  5,  2,  3,  4,\n",
       "        1,  6, 13,  2,  6,  4,  2,  1,  4,  5,  2,  1,  2,  1,  2,  2,  1,\n",
       "        4,  5,  4,  1, 11,  7,  4,  2,  3,  4,  1,  2,  5,  2,  1,  3,  2,\n",
       "        2,  3,  2,  4,  1,  5,  1,  1,  6,  2, 13,  2,  2,  5,  1,  1,  2,\n",
       "        6,  3,  3,  2,  2,  1,  1,  1,  4,  1,  1,  4,  2,  1,  3,  2,  8,\n",
       "        3,  3,  7,  6,  2,  3,  2,  1,  6, 13,  3,  6,  4,  2,  2,  6,  2,\n",
       "        1,  2,  1,  2,  6,  1,  5,  3,  1,  4,  4,  1,  1,  5,  1,  1,  3,\n",
       "        2,  2,  1,  1,  1,  4,  7,  3,  4,  1,  2,  4,  6, 11,  1,  2,  3,\n",
       "        1,  9,  1,  1,  2,  2,  5,  1,  1,  2,  4,  6,  7,  1,  6,  3,  3,\n",
       "        1,  2,  4,  8,  1,  9,  1,  4,  3,  2,  4,  2,  2,  2,  2,  1,  3,\n",
       "        2,  1, 10,  1,  1,  2,  5,  1,  7, 17,  1,  1,  1,  3,  3,  1,  3,\n",
       "        1,  1,  1,  4,  6,  1,  3,  4,  2,  5,  2,  5,  1,  2,  2,  1, 10,\n",
       "        8,  3,  1,  3,  9,  2,  6,  5,  1,  3,  1,  2,  3,  4,  4,  2,  3,\n",
       "        4,  1,  1,  1,  3,  1,  1,  2,  2,  2,  1,  1,  1,  3,  1,  1,  3,\n",
       "        3,  1,  9,  1,  1,  1,  2,  1,  3,  1,  1, 10,  9,  8,  2,  1,  1,\n",
       "        1,  1,  4,  1,  1,  3,  3,  3,  3,  3,  2,  3,  2,  7,  3,  1,  5,\n",
       "        1,  1,  2,  2,  2,  1,  7,  1,  2,  2,  1,  3,  1,  2,  2,  2,  1,\n",
       "        4,  5,  2,  2,  3,  2,  9,  2,  3,  2,  2,  1,  9,  1,  3, 12,  1,\n",
       "        1,  1,  2,  2,  1,  1, 13,  5,  3,  4,  2,  5,  1,  1,  1,  4,  6,\n",
       "        8, 12,  4,  1,  2,  2,  1,  1,  6,  1,  2,  7,  1,  4,  1,  3,  7,\n",
       "        3,  9,  5,  2,  7,  2, 11,  2,  3,  1,  2,  2,  2,  4,  3,  4,  3,\n",
       "        4,  9,  5,  6, 12,  6,  3,  3,  1,  1, 15,  2,  2,  6,  1,  1,  3,\n",
       "        7,  4,  2,  4,  2,  1,  2,  1,  3,  1,  1,  1,  3,  2,  1,  2,  5,\n",
       "        2,  2,  2,  1,  7,  1,  6,  3,  2,  6,  1,  3,  2,  2,  2,  3,  2,\n",
       "        2,  1,  9,  3,  1,  3,  8,  2,  2,  4,  3,  7,  1,  1,  3,  2,  4,\n",
       "        7,  1,  2,  4,  3,  1,  7,  1,  3,  3,  3,  2,  4,  6,  3,  2,  1,\n",
       "        1,  1,  2,  2,  3,  6,  1,  7,  1,  2,  2,  5,  3,  6,  1,  3,  1,\n",
       "        1,  1,  2,  3,  1,  1,  2,  6,  5,  1,  3,  4,  4,  3,  2,  1,  4,\n",
       "        2,  3,  5,  1,  4,  1,  1,  1,  7,  2,  4,  3,  1,  1,  3,  4,  2,\n",
       "        1,  3,  8,  4,  1,  1,  1,  1,  1,  3,  4,  7,  2,  2,  3,  1,  3,\n",
       "        4,  4,  1,  1,  5,  5,  1,  2,  2,  5,  4,  1,  1,  1,  1,  1,  3,\n",
       "        4,  4,  4,  1,  3,  4,  2,  1,  2,  2,  1,  2,  5,  6,  1,  4,  4,\n",
       "        3,  2,  1,  2,  1,  3,  2,  2,  1,  3,  8,  1,  8,  1,  3,  2,  1,\n",
       "        5,  5,  1,  2,  2,  1,  2,  6, 14,  2,  1,  2,  6,  3,  1,  4,  2,\n",
       "        4,  4,  4,  4,  1,  1,  1,  9,  1,  4,  8,  5,  3,  2,  1,  3,  7,\n",
       "        4,  2,  1,  6,  3,  7,  1, 25,  3,  2,  5,  6,  1,  9,  3,  1,  2,\n",
       "        9,  3,  1,  1,  5,  2,  3,  1,  3,  1,  3,  4,  3,  9,  1,  1,  7,\n",
       "        3,  7,  2,  1,  1,  2,  6,  2,  8,  2,  4,  6,  4,  1,  5,  3,  1,\n",
       "        1,  1,  1,  9,  2,  1,  1,  2,  4,  2,  2,  1,  7,  1,  5,  1,  2,\n",
       "        1,  2,  3,  2,  1,  2,  8,  8,  2,  6,  3, 17,  1,  1,  3,  7,  3,\n",
       "        5,  1,  1,  2,  3,  1,  2,  1,  2,  6,  2,  1,  2,  1,  9,  4,  3,\n",
       "        9,  4, 11,  4,  1,  1,  3,  2,  1,  1,  2,  1,  6,  1,  2,  1,  1,\n",
       "        1,  5,  4,  1,  1,  1,  2,  2,  2,  1,  1,  1,  3,  2,  1,  1,  4,\n",
       "        1,  3,  1,  3,  1,  6,  4,  4,  3,  1,  2,  1,  1,  6,  2,  7,  1,\n",
       "       10,  3,  1,  2,  5,  1,  1,  1,  1,  1,  1,  2,  1,  4,  4,  2,  1,\n",
       "        2,  2,  2,  1,  3,  1,  3,  1,  3,  1,  1,  1,  1,  2,  1,  2,  4,\n",
       "        5,  1,  1,  3,  1,  2,  5,  5,  3,  7,  5,  1,  2,  7,  4,  1,  2,\n",
       "        1,  1,  1,  3,  1, 11,  2,  4,  8,  7,  1,  6,  1,  3,  1,  9,  6,\n",
       "        1,  3,  6,  6,  8,  4,  1,  1,  1,  3,  1,  1,  1,  2,  3, 11,  3,\n",
       "        1,  4,  2,  2,  2,  1,  1,  1,  4,  5,  2,  3,  1,  2,  3,  1,  2,\n",
       "        4,  6,  3,  3,  1,  1,  2,  2,  1,  5,  2,  1,  4,  3,  2,  1,  1,\n",
       "        1,  6,  1,  2,  2,  2,  1,  1,  4,  4,  3,  1,  4,  1,  4,  2, 11,\n",
       "        4,  1,  1,  2,  3,  4,  4,  3,  1,  2,  1,  2,  1,  1,  8,  1,  1,\n",
       "        4,  3,  3,  1,  3,  4,  2,  1,  9,  1,  5,  2,  3,  2,  3,  1, 13,\n",
       "        2,  2,  3,  3,  6,  9,  1,  5,  1,  7,  1,  5,  4,  1,  6,  1,  2,\n",
       "        6,  1,  2,  3,  7,  1,  2,  1,  4,  4,  1,  2,  2,  1,  6,  2,  3,\n",
       "        2,  1,  3,  3,  3,  4,  2,  4,  4,  5,  2,  1,  3,  2,  4,  3,  1,\n",
       "        1,  1,  1,  1,  2,  8,  1,  4,  3,  6,  4,  2, 14,  6])"
      ]
     },
     "execution_count": 53,
     "metadata": {},
     "output_type": "execute_result"
    }
   ],
   "source": [
    "import numpy as np\n",
    "\n",
    "# Función para realizar simulaciones utilizando el método de aceptación-rechazo\n",
    "# n: parámetro para la expresión de aceptación\n",
    "# sim: número de simulaciones a realizar\n",
    "def val(n, sim):\n",
    "    lista = []  # Lista para almacenar el número de iteraciones por simulación\n",
    "    for a in range(sim):  # Bucle que realiza sim simulaciones\n",
    "        i = 0  # Contador de iteraciones por simulación\n",
    "        bandera = 1  # Variable de control para el bucle while\n",
    "        \n",
    "        while bandera == 1:  # El bucle se repite hasta que se acepte un valor\n",
    "            u1 = np.random.random()  # Genera un número aleatorio uniforme entre 0 y 1\n",
    "            u2 = np.random.random()  # Genera otro número aleatorio uniforme entre 0 y 1\n",
    "            i += 1  # Incrementa el contador de iteraciones\n",
    "            \n",
    "            # Verifica la condición de aceptación: si u2 es menor o igual a la expresión n*u1**(n-1)\n",
    "            if u2 <= (n * u1**(n - 1)):\n",
    "                x = u1  # Almacena el valor aceptado de u1 (aunque solo lo imprime y no se usa más adelante)\n",
    "                bandera = 0  # Cambia la bandera para salir del bucle while\n",
    "                lista.append(i)  # Guarda el número de iteraciones en la lista\n",
    "\n",
    "    print(x)  # Imprime el último valor de u1 aceptado\n",
    "    return np.array(lista)  # Devuelve los resultados como un array de numpy\n",
    "\n",
    "\n",
    "# Solicita al usuario que ingrese el valor de n y el número de simulaciones\n",
    "n = int(input(\"Ingresa el valor de n:\"))\n",
    "sim = int(input(\"Ingresa el número de simulaciones:\"))\n",
    "val(n, sim)  # Llama a la función val con los valores de n y sim\n"
   ]
  },
  {
   "cell_type": "markdown",
   "id": "609493d3-3487-463f-add9-ded56f8c8ebf",
   "metadata": {},
   "source": [
    "c) ¿Qué método es más eficiente y por qué?\n",
    "El método de aceptación y rechazo sería más eficiente, ya que nos regresa números enteros. Además, el tiempo que emplea es menor que el método de transformada inversa\n"
   ]
  },
  {
   "cell_type": "markdown",
   "id": "87b34cce-f8cf-4ced-b776-984d45b13330",
   "metadata": {},
   "source": [
    "### Ejercicio 10"
   ]
  },
  {
   "cell_type": "markdown",
   "id": "b2e55750-2c46-4a9e-9ea0-164f8d89717f",
   "metadata": {},
   "source": [
    "De un método para generar una variable aleatoria con función de densidad:\n",
    "$$f(x)= e^{2x} I_{-\\infty,0}(x) + e^{-2x} I_{0,\\infty}(x)$$"
   ]
  },
  {
   "cell_type": "markdown",
   "id": "ab2d3625-2232-48ee-8c87-d47fb0891551",
   "metadata": {},
   "source": [
    "1. Tenemos nuestra función de densidad:\n",
    "$$f(x)= e^{2x} I_{-\\infty,0}(x) + e^{-2x} I_{0,\\infty}(x)$$\n",
    "\n",
    "la composición la realizaremos con $p_{1} = p_{2} = 0.5$\n",
    "\n",
    "2. Despejamos las funciones inversas de las funciones:\n",
    "$$ u = e^{2x} \\Rightarrow \\hspace{0.3cm} x = \\frac{In(u)}{2}$$\n",
    "$$ u = e^{-2x} \\Rightarrow \\hspace{0.3cm} x =- \\frac{In(u)}{2}$$\n",
    "\n",
    "4. \n",
    ". Generamos dos pseudoaleatorios $U_{1}$ y $U_{2}$\n",
    "5. Si $U_{1}\\le0.5$ entonces $X = \\frac{In(u_{2})}{2}$. En caso contrario $U_{1}>0.5$ entonces $X = -\\frac{In(u_{2})}{2}$"
   ]
  },
  {
   "cell_type": "code",
   "execution_count": 9,
   "id": "3f7fca13-dc1a-42ac-83f4-47ab3f347676",
   "metadata": {},
   "outputs": [],
   "source": [
    "\n",
    "\n",
    "## Simulación de valores de una distribución Laplace\n",
    "def rlaplace(size):\n",
    " # Genera dos arrays de números aleatorios uniformemente distribuidos entre 0 y 1.\n",
    " u1 = np.random.random(size)\n",
    " u2 = np.random.random(size)\n",
    " \n",
    " # Retorna valores simulados de la distribución Laplace.\n",
    " # Para u1 <= 0.5, el valor es log(u2)/2, que corresponde a la parte negativa de la d\n",
    " # Para u1 > 0.5, el valor es -log(u2)/2, que corresponde a la parte positiva de la d\n",
    " return np.where(u1 <= 0.5, np.log(u2)/2, -np.log(u2)/2)\n"
   ]
  },
  {
   "cell_type": "code",
   "execution_count": 11,
   "id": "a675c9e9-ad27-4431-b12e-775a9bd971a6",
   "metadata": {},
   "outputs": [],
   "source": [
    "import numpy as np # Importa la biblioteca NumPy para realizar operaciones numéricas.\n",
    "# Genera 1000 puntos entre 0 y 4 para el eje x (parte positiva de la función).\n",
    "x1 = np.linspace(0, 4, 1000)\n",
    "# Genera 1000 puntos entre -5 y 0 para el eje x (parte negativa de la función).\n",
    "x2 = np.linspace(-4, 0, 1000)\n",
    "\n",
    "# Define la función de densidad f(x) para la distribución \n",
    "# La función tiene diferentes formas para valores de x menores que 0 y mayores o igual\n",
    "def f(x):\n",
    " return np.where(x < 0, 0.5 * np.exp(2*x), 0.5 * np.exp(-2*x))\n",
    " # Si x < 0, f(x) = 0.5 * exp(2x)\n",
    " # Si x >= 0, f(x) = 0.5 * exp(-2x)\n",
    "import matplotlib.pyplot as plt # Importa la biblioteca Matplotlib para crear gráfico\n",
    "#"
   ]
  },
  {
   "cell_type": "code",
   "execution_count": 13,
   "id": "a94cab4d-6139-4fe3-b691-5371c5e359de",
   "metadata": {},
   "outputs": [
    {
     "data": {
      "text/plain": [
       "Text(0.5, 1.0, 'Exponencial')"
      ]
     },
     "execution_count": 13,
     "metadata": {},
     "output_type": "execute_result"
    },
    {
     "data": {
      "image/png": "[encoded data removed]",
      "text/plain": [
       "<Figure size 640x480 with 1 Axes>"
      ]
     },
     "metadata": {},
     "output_type": "display_data"
    }
   ],
   "source": [
    "# Establece el título del gráfico\n",
    "plt.title(\"Exponencial\")"
   ]
  },
  {
   "cell_type": "code",
   "execution_count": 15,
   "id": "0490aec8-9814-4f40-847b-7d152bc3cdb6",
   "metadata": {},
   "outputs": [
    {
     "data": {
      "image/png": "[encoded data removed]",
      "text/plain": [
       "<Figure size 640x480 with 1 Axes>"
      ]
     },
     "metadata": {},
     "output_type": "display_data"
    }
   ],
   "source": [
    "# Traza la función de densidad de probabilidad (pdf) de la distribución de Laplace usa\n",
    "plt.plot(x1, f(x1), color=\"red\")\n",
    "# Rellena el área bajo la curva de la función de densidad con color azul claro y trans\n",
    "plt.fill_between(x1, f(x1), color=\"skyblue\", alpha=0.5)\n",
    "# Traza otra línea para la función de densidad de probabilidad, usando otra serie de p\n",
    "plt.plot(x2, f(x2), color=\"red\", label=\"pdf\")\n",
    "# Rellena el área bajo la curva de la función de densidad con color rosa\n",
    "plt.fill_between(x2, f(x2), color=\"pink\")\n",
    "# Traza un histograma de los datos generados con la función rlaplace, normalizado para\n",
    "# El histograma se dibuja en color azul claro con bordes negros\n",
    "plt.hist(rlaplace(100000), density=True, color=\"skyblue\", bins=40, edgecolor=\"black\")\n",
    "# Muestra la leyenda del gráfico con las etiquetas definidas\n",
    "plt.legend()\n",
    "# Muestra el gráfico en pantalla\n",
    "plt.show()"
   ]
  },
  {
   "cell_type": "code",
   "execution_count": null,
   "id": "5d144cb9-ec97-4150-b591-656c42802906",
   "metadata": {},
   "outputs": [],
   "source": []
  },
  {
   "cell_type": "code",
   "execution_count": null,
   "id": "14ea5596-22c4-4f6f-8a82-71f0186823e3",
   "metadata": {},
   "outputs": [],
   "source": []
  }
 ],
 "metadata": {
  "kernelspec": {
   "display_name": "Python 3 (ipykernel)",
   "language": "python",
   "name": "python3"
  },
  "language_info": {
   "codemirror_mode": {
    "name": "ipython",
    "version": 3
   },
   "file_extension": ".py",
   "mimetype": "text/x-python",
   "name": "python",
   "nbconvert_exporter": "python",
   "pygments_lexer": "ipython3",
   "version": "3.11.4"
  }
 },
 "nbformat": 4,
 "nbformat_minor": 5
}
