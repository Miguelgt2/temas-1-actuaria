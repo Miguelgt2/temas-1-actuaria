{
 "cells": [
  {
   "cell_type": "code",
   "execution_count": 3,
   "id": "c6476a83",
   "metadata": {},
   "outputs": [],
   "source": [
    "import random\n",
    "import time\n",
    "import spicy.stats as stats\n",
    "# Obtener la hora actual en segundos desde el epoch\n",
    "current_time = int(time.time())"
   ]
  },
  {
   "cell_type": "code",
   "execution_count": 4,
   "id": "614f2d24",
   "metadata": {},
   "outputs": [
    {
     "name": "stdout",
     "output_type": "stream",
     "text": [
      "['+' '-' '+' '+' '+' '-' '-' '+' '+' '+']\n"
     ]
    }
   ],
   "source": [
    "import numpy as np\n",
    "# Establece la semilla para la generación de números aleatorios en numpy usando la var\n",
    "np.random.seed(current_time) # np.random.seed() inicializa el generador de números al\n",
    "# Genera y muestra una muestra aleatoria de 10 elementos a partir del arreglo [\"+\", \"-\n",
    "# con probabilidades específicas para cada elemento\n",
    "print(np.random.choice([\"+\", \"-\"], size=10, p=[0.5, 0.5]))\n",
    "# np.random.choice() selecciona elementos aleatorios de la lista [\"+\", \"-\"]\n",
    "# size=10 especifica que queremos una muestra de 10 elementos\n",
    "# p=[0.5, 0.5] define la probabilidad de selección de cada elemento, en este caso, amb\n",
    "# El resultado es un arreglo de 10 elementos, cada uno siendo \"+\" o \"-\" según las pro"
   ]
  },
  {
   "cell_type": "code",
   "execution_count": 5,
   "id": "e3529711",
   "metadata": {},
   "outputs": [
    {
     "name": "stdout",
     "output_type": "stream",
     "text": [
      "Número de runs: 53\n",
      "Número esperado de runs: 51.0\n",
      "Varianza de runs: 24.747474747474747\n",
      "Estadística z: 0.402035636556294\n",
      "Valor p: 0.6876577997456863\n"
     ]
    }
   ],
   "source": [
    "def runs_test(data):\n",
    " # Convertir los datos a una secuencia binaria para la prueba de runs\n",
    " median = np.median(data) # Calcula la mediana de los datos. La mediana se usa par\n",
    " binary_data = np.where(data > median, 1, 0) # Convierte los datos en una secuenci\n",
    "\n",
    " # Contar el número de \"runs\" (secuencias consecutivas de 0s o 1s)\n",
    " runs = np.count_nonzero(np.diff(binary_data) != 0) + 1\n",
    " # np.diff(binary_data) calcula la diferencia entre elementos consecutivos de binar\n",
    " # np.count_nonzero() cuenta cuántas diferencias son distintas de 0, es decir, cuán\n",
    " # +1 se agrega para incluir el primer run.\n",
    " # Número total de 0s y 1s\n",
    " n0 = np.sum(binary_data == 0) # Cuenta el número de 0s en binary_data\n",
    " n1 = np.sum(binary_data == 1) # Cuenta el número de 1s en binary_data\n",
    "\n",
    " # Calcular la estadística de la prueba y el valor p\n",
    " expected_runs = 1 + (2 * n0 * n1) / (n0 + n1)\n",
    " # La fórmula para el número esperado de runs en una secuencia binaria es 1 + (2 *\n",
    " variance_runs = (expected_runs - 1) * (expected_runs - 2) / (n0 + n1 - 1)\n",
    " # La varianza de los runs se calcula con la fórmula (expected_runs - 1) * (expecte\n",
    " z = (runs - expected_runs) / np.sqrt(variance_runs)\n",
    " # La estadística z se calcula como (runs - expected_runs) / sqrt(variance_runs), q\n",
    " p_value = 2 * (1 - stats.norm.cdf(np.abs(z)))\n",
    " # El valor p se calcula usando la distribución normal estándar. stats.norm.cdf() c\n",
    " # 2 * (1 - CDF) se usa para obtener el valor p bilateral, que indica la probabilid\n",
    " return runs, expected_runs, variance_runs, z, p_value\n",
    " # Devuelve el número observado de runs, el número esperado de runs, la varianza de\n",
    "# Ejemplo de uso\n",
    "data = np.random.random(100) # Genera un array de 100 datos aleatorios entre 0 y 1\n",
    "runs, expected_runs, variance_runs, z, p_value = runs_test(data)\n",
    "# Llama a la función runs_test con los datos generados y guarda los resultados en las\n",
    "print(f'Número de runs: {runs}')\n",
    "print(f'Número esperado de runs: {expected_runs}')\n",
    "print(f'Varianza de runs: {variance_runs}')\n",
    "print(f'Estadística z: {z}')\n",
    "print(f'Valor p: {p_value}')\n",
    "# Imprime el número de runs observado, el número esperado de runs, la varianza de los"
   ]
  },
  {
   "cell_type": "code",
   "execution_count": 7,
   "id": "fc064275",
   "metadata": {},
   "outputs": [],
   "source": [
    "import numpy as np\n",
    "import scipy.stats as stats\n",
    "\n",
    "def anderson_darling_uniform_test(data):\n",
    "    \"\"\"\n",
    "    Realiza la prueba de bondad de ajuste de Anderson-Darling para verificar si los datos \n",
    "    siguen una distribución uniforme.\n",
    "\n",
    "    Parameters:\n",
    "    data (array-like): Muestra de datos a ser probada.\n",
    "\n",
    "    Returns:\n",
    "    A2 (float): Estadístico de la prueba de Anderson-Darling.\n",
    "    p_value (float): Valor p estimado a partir de la simulación.\n",
    "    \"\"\"\n",
    "    # Asegurarse de que los datos estén en el rango [0, 1]\n",
    "    data = np.clip(data, 0, 1)\n",
    "\n",
    "    # Ordenar los datos de menor a mayor\n",
    "    sorted_data = np.sort(data)\n",
    "    n = len(data)  # Número de datos en la muestra\n",
    "\n",
    "    # Calcular el estadístico de Anderson-Darling para la distribución uniforme\n",
    "    # Para la distribución uniforme, F(x) = x (CDF uniforme)\n",
    "    cdf_values = sorted_data\n",
    "    # Term1 es la suma de los logaritmos de los valores CDF y su complemento\n",
    "    term1 = -np.sum((2 * np.arange(1, n + 1) - 1) * (np.log(cdf_values) + np.log(1 - cdf_values)))\n",
    "    term2 = -n  # Término de ajuste\n",
    "\n",
    "    # Calcula el estadístico A2\n",
    "    A2 = (term1 / n) + term2\n",
    "\n",
    "    # Aproximar el valor p usando simulaciones para crear una distribución de referencia\n",
    "    num_simulations = 10000  # Número de simulaciones para aproximar la distribución de A2\n",
    "    simulated_statistics = []\n",
    "\n",
    "    for _ in range(num_simulations):\n",
    "        # Generar datos simulados uniformemente distribuidos\n",
    "        simulated_data = np.random.uniform(0, 1, size=n)\n",
    "        simulated_sorted_data = np.sort(simulated_data)\n",
    "        simulated_cdf_values = simulated_sorted_data\n",
    "        \n",
    "        # Calcular el estadístico de Anderson-Darling para los datos simulados\n",
    "        simulated_term1 = -np.sum((2 * np.arange(1, n + 1) - 1) * (np.log(simulated_cdf_values) + np.log(1 - simulated_cdf_values)))\n",
    "        simulated_term2 = -n\n",
    "        simulated_A2 = (simulated_term1 / n) + simulated_term2\n",
    "        \n",
    "        simulated_statistics.append(simulated_A2)\n",
    "\n",
    "    simulated_statistics = np.array(simulated_statistics)\n",
    "    # Calcular el valor p como la proporción de estadísticos simulados que son mayores o iguales a A2\n",
    "    p_value = np.mean(simulated_statistics >= A2)\n",
    "\n",
    "    return A2, p_value\n"
   ]
  },
  {
   "cell_type": "code",
   "execution_count": 8,
   "id": "bbc1e698",
   "metadata": {},
   "outputs": [
    {
     "name": "stdout",
     "output_type": "stream",
     "text": [
      "Estadística de Anderson-Darling: 95.08737739498511\n",
      "Valor p: 0.6503\n",
      "La prueba sugiere que los datos siguen una distribución uniforme.\n"
     ]
    }
   ],
   "source": [
    "# Ejemplo de uso\n",
    "np.random.seed(42) # Establece una semilla para reproducibilidad de los resultados\n",
    "data = np.random.uniform(0, 1, size=100) # Generar una muestra de 100 números aleator\n",
    "# Realizar la prueba de Anderson-Darling\n",
    "A2, p_value = anderson_darling_uniform_test(data)\n",
    "# Mostrar los resultados\n",
    "print(f'Estadística de Anderson-Darling: {A2}')\n",
    "print(f'Valor p: {p_value}')\n",
    "# Evaluar el resultado basándose en un nivel de significancia del 5%\n",
    "alpha = 0.05\n",
    "if p_value < alpha:\n",
    " print('La prueba sugiere que los datos no siguen una distribución uniforme.')\n",
    "else:\n",
    " print('La prueba sugiere que los datos siguen una distribución uniforme.')"
   ]
  },
  {
   "cell_type": "code",
   "execution_count": 16,
   "id": "8321090a",
   "metadata": {},
   "outputs": [
    {
     "name": "stdout",
     "output_type": "stream",
     "text": [
      "5\n",
      "0.4050332388498735\n"
     ]
    }
   ],
   "source": [
    "k=10\n",
    "u=np.random.random()\n",
    "x=int(k*u)+1\n",
    "print(x)\n",
    "print(u)"
   ]
  },
  {
   "cell_type": "code",
   "execution_count": null,
   "id": "148ad8b6",
   "metadata": {},
   "outputs": [],
   "source": []
  }
 ],
 "metadata": {
  "kernelspec": {
   "display_name": "Python 3 (ipykernel)",
   "language": "python",
   "name": "python3"
  },
  "language_info": {
   "codemirror_mode": {
    "name": "ipython",
    "version": 3
   },
   "file_extension": ".py",
   "mimetype": "text/x-python",
   "name": "python",
   "nbconvert_exporter": "python",
   "pygments_lexer": "ipython3",
   "version": "3.11.4"
  }
 },
 "nbformat": 4,
 "nbformat_minor": 5
}
