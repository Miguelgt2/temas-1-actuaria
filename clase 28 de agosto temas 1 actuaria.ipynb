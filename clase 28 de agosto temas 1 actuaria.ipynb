{
 "cells": [
  {
   "cell_type": "code",
   "execution_count": 1,
   "id": "ea82dfc5",
   "metadata": {},
   "outputs": [],
   "source": [
    "import numpy as np"
   ]
  },
  {
   "cell_type": "code",
   "execution_count": 5,
   "id": "037c5270",
   "metadata": {},
   "outputs": [],
   "source": [
    "c=1/4\n",
    "contador =[] # se guardan las iteraciones\n",
    "for i in range(100):\n",
    "    i=0\n",
    "    bandera=1\n",
    "    while (bandera==1):\n",
    "        u1=np.random.random()\n",
    "        x1=((256/27)*(u1*((1-u1)**3)))\n",
    "        u2=np.random.random()\n",
    "        i=i+1\n",
    "        if(u2<=x1):\n",
    "            x=u1\n",
    "            bandera=0\n",
    "            contador.append(i)"
   ]
  },
  {
   "cell_type": "code",
   "execution_count": 6,
   "id": "f5cd1452",
   "metadata": {},
   "outputs": [
    {
     "data": {
      "text/plain": [
       "array([4, 1, 1, 2, 1, 3, 1, 3, 6, 1, 2, 1, 1, 1, 2, 2, 1, 4, 2, 1, 3, 2,\n",
       "       4, 2, 2, 4, 1, 3, 2, 3, 2, 1, 1, 3, 1, 1, 1, 2, 5, 1, 1, 3, 6, 2,\n",
       "       2, 5, 1, 1, 4, 1, 4, 3, 1, 6, 1, 1, 7, 4, 2, 1, 4, 1, 2, 3, 4, 3,\n",
       "       2, 7, 2, 2, 2, 2, 3, 3, 4, 2, 3, 2, 2, 4, 1, 4, 1, 1, 1, 1, 2, 1,\n",
       "       1, 3, 1, 1, 1, 1, 1, 2, 2, 3, 2, 2])"
      ]
     },
     "execution_count": 6,
     "metadata": {},
     "output_type": "execute_result"
    }
   ],
   "source": [
    "c=np.array(contador)\n",
    "c"
   ]
  },
  {
   "cell_type": "code",
   "execution_count": 16,
   "id": "3dabca28",
   "metadata": {},
   "outputs": [],
   "source": [
    "def validacion(n):\n",
    "    c=1/4\n",
    "    contador =[] # se guardan las iteraciones\n",
    "    for j in range(n):\n",
    "        i=0\n",
    "        bandera=1\n",
    "        while (bandera==1):\n",
    "            u1=np.random.random()\n",
    "            x1=((256/27)*(u1*((1-u1)**3)))\n",
    "            u2=np.random.random()\n",
    "            i=i+1\n",
    "            if(u2<=x1):\n",
    "                x=u1\n",
    "                bandera=0\n",
    "                contador.append(i)\n",
    "    return np.array(contador)"
   ]
  },
  {
   "cell_type": "code",
   "execution_count": 26,
   "id": "bda18c10",
   "metadata": {},
   "outputs": [
    {
     "data": {
      "text/plain": [
       "2.1142"
      ]
     },
     "execution_count": 26,
     "metadata": {},
     "output_type": "execute_result"
    }
   ],
   "source": [
    "validacion(10000).mean()"
   ]
  },
  {
   "cell_type": "code",
   "execution_count": 23,
   "id": "1a4531c2",
   "metadata": {},
   "outputs": [
    {
     "data": {
      "text/plain": [
       "array([2, 1, 3, 3, 6, 7, 1, 2, 2, 1, 1, 4, 1, 5, 2, 4, 1, 1, 1, 1, 2, 1,\n",
       "       2, 3, 1, 1, 1, 2, 1, 6, 1, 3, 1, 2, 3, 1, 1, 1, 5, 1, 1, 3, 4, 1,\n",
       "       5, 5, 5, 2, 6, 2, 3, 1, 3, 2, 1, 2, 1, 3, 2, 1, 2, 1, 1, 1, 1, 1,\n",
       "       2, 1, 1, 1, 1, 1, 1, 1, 2, 2, 2, 1, 2, 4, 5, 1, 3, 1, 3, 2, 1, 1,\n",
       "       1, 2, 1, 1, 1, 5, 2, 1, 2, 1, 2, 1])"
      ]
     },
     "execution_count": 23,
     "metadata": {},
     "output_type": "execute_result"
    }
   ],
   "source": [
    "validacion(100)"
   ]
  },
  {
   "cell_type": "code",
   "execution_count": 29,
   "id": "599e6d74",
   "metadata": {},
   "outputs": [],
   "source": [
    "def validacion2(n):\n",
    "    c=1/4\n",
    "    contador =[] # se guardan las iteraciones\n",
    "    for j in range(n):\n",
    "        i=0\n",
    "        bandera=1\n",
    "        while (bandera==1):\n",
    "            u1=np.random.random()\n",
    "            y=-((3/2)*(np.log(u1)))\n",
    "            u2=np.random.random()\n",
    "            i=i+1\n",
    "            x1=np.sqrt((2 * np.e * y) / 3) * np.exp(-y / 3)\n",
    "            if(u2<x1):\n",
    "                x=u1\n",
    "                bandera=0\n",
    "                contador.append(i)\n",
    "    return np.array(contador)"
   ]
  },
  {
   "cell_type": "code",
   "execution_count": 32,
   "id": "c81a05f6",
   "metadata": {},
   "outputs": [
    {
     "data": {
      "text/plain": [
       "1.2629"
      ]
     },
     "execution_count": 32,
     "metadata": {},
     "output_type": "execute_result"
    }
   ],
   "source": [
    "validacion2(10000).mean()"
   ]
  },
  {
   "cell_type": "code",
   "execution_count": null,
   "id": "9f2d0ddc",
   "metadata": {},
   "outputs": [],
   "source": []
  }
 ],
 "metadata": {
  "kernelspec": {
   "display_name": "Python 3 (ipykernel)",
   "language": "python",
   "name": "python3"
  },
  "language_info": {
   "codemirror_mode": {
    "name": "ipython",
    "version": 3
   },
   "file_extension": ".py",
   "mimetype": "text/x-python",
   "name": "python",
   "nbconvert_exporter": "python",
   "pygments_lexer": "ipython3",
   "version": "3.11.4"
  }
 },
 "nbformat": 4,
 "nbformat_minor": 5
}
