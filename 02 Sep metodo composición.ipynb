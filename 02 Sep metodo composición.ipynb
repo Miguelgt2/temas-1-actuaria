{
 "cells": [
  {
   "cell_type": "code",
   "execution_count": null,
   "id": "3c6f6980-1bab-4b63-b281-5bc176aaacbf",
   "metadata": {},
   "outputs": [],
   "source": [
    "import numpy as np  # Importa la biblioteca NumPy para realizar operaciones numéricas.\n",
    "\n",
    "# Genera 1000 puntos entre 0 y 5 para el eje x (parte positiva de la función).\n",
    "x1 = np.linspace(0, 5, 1000)\n",
    "\n",
    "# Genera 1000 puntos entre -5 y 0 para el eje x (parte negativa de la función).\n",
    "x2 = np.linspace(-5, 0, 1000)\n",
    "\n",
    "# Genera 1000 puntos entre 0 y 5 para el eje x (parte positiva de la función).\n",
    "x3 = np.linspace(0, 5, 1000)\n",
    "\n",
    "\n",
    "# Define la función de densidad f(x) para la distribución Laplace o Doble Exponencial.\n",
    "# La función tiene diferentes formas para valores de x menores que 0 y mayores o iguales a 0.\n",
    "def f(x):\n",
    "    u1 = np.random.random()\n",
    "    u2 = np.random.random()\n",
    "    if u1 <= 1/3:\n",
    "        x = u2\n",
    "        return x\n",
    "    elif u1<= 2/3:\n",
    "        x = u2**(1/2)\n",
    "        return x\n",
    "    else: \n",
    "        x = x**(1/3)\n",
    "        return x \n",
    "    \n",
    "    # Si x < 0, f(x) = 0.5 * exp(x)\n",
    "    # Si x >= 0, f(x) = 0.5 * exp(-x)\n",
    "\n",
    "import matplotlib.pyplot as plt  # Importa la biblioteca Matplotlib para crear gráficos.\n",
    "\n",
    "# Establece el título del gráfico.\n",
    "plt.title(\"Laplace o Doble Exponencial\")\n",
    "\n",
    "# Grafica la función de densidad para la parte positiva de x (x >= 0).\n",
    "plt.plot(x1, f(x1), color=\"black\", label=\"f1\")\n",
    "\n",
    "# Rellena el área bajo la curva para la parte positiva de x, con color azul claro y algo de transparencia.\n",
    "plt.fill_between(x1, f(x1), color=\"skyblue\", alpha=0.5, label=\"f1\")\n",
    "\n",
    "# Grafica la función de densidad para la parte negativa de x (x < 0).\n",
    "plt.plot(x2, f(x2), color=\"black\")\n",
    "\n",
    "# Rellena el área bajo la curva para la parte negativa de x, con color rosa.\n",
    "plt.fill_between(x2, f(x2), color=\"pink\", label=\"f2\")\n",
    "\n",
    "# Dibuja una línea vertical en x = 0 que representa la simetría de la distribución, con algo de transparencia.\n",
    "plt.plot(np.zeros(1000), np.linspace(0, 0.5, 1000), color=\"black\", alpha=0.5)\n",
    "\n",
    "# Etiqueta para el eje y.\n",
    "plt.ylabel(\"f(x)\")\n",
    "\n",
    "# Etiqueta para el eje x.\n",
    "plt.xlabel(\"x\")\n",
    "\n",
    "# Muestra la leyenda que distingue las partes positivas y negativas de la función.\n",
    "plt.legend()\n",
    "\n",
    "# Muestra el gráfico.\n",
    "plt.show()\n"
   ]
  },
  {
   "cell_type": "code",
   "execution_count": 56,
   "id": "8cf5156e-dc95-47be-91e4-5da8b6809440",
   "metadata": {},
   "outputs": [],
   "source": [
    "import numpy as np\n",
    "import matplotlib.pyplot as plt\n",
    "def rcomp(size):\n",
    "    lista = []\n",
    "    u1 = np.random.random(size)\n",
    "    u2 = np.random.random(size)\n",
    "    for i in range(size):\n",
    "        if u1[i] < 1/3:\n",
    "            lista.append(u2[i])\n",
    "        elif u1[i]< 2/3:\n",
    "            lista.append(u2[i]**(1/2))\n",
    "        else: \n",
    "            lista.append(u2[i]**(1/3))\n",
    "    return np.array(lista)\n",
    "        "
   ]
  },
  {
   "cell_type": "code",
   "execution_count": 58,
   "id": "35d6abb5-61c3-46f3-8b4f-e890f0fbfdfd",
   "metadata": {},
   "outputs": [
    {
     "data": {
      "image/png": "[encoded data removed]",
      "text/plain": [
       "<Figure size 640x480 with 1 Axes>"
      ]
     },
     "metadata": {},
     "output_type": "display_data"
    }
   ],
   "source": [
    "plt.hist(rcomp(1000))\n",
    "plt.show()"
   ]
  },
  {
   "cell_type": "code",
   "execution_count": null,
   "id": "1240d5c7-0ee2-4410-844d-b61b0da0073d",
   "metadata": {},
   "outputs": [],
   "source": []
  },
  {
   "cell_type": "code",
   "execution_count": null,
   "id": "d28e0a18-8453-45a3-9270-ef812d2fe2e7",
   "metadata": {},
   "outputs": [],
   "source": [
    "import numpy as np  # Importa la biblioteca NumPy para realizar operaciones numéricas.\n",
    "\n",
    "# Genera 1000 puntos entre 0 y 5 para el eje x (parte positiva de la función).\n",
    "x1 = np.linspace(0, 10, 1000)\n",
    "\n",
    "# Genera 1000 puntos entre -5 y 0 para el eje x (parte negativa de la función).\n",
    "x2 = np.linspace(-10, 0, 1000)\n",
    "\n",
    "# Define la función de densidad f(x) para la distribución Laplace o Doble Exponencial.\n",
    "# La función tiene diferentes formas para valores de x menores que 0 y mayores o iguales a 0.\n",
    "def rcomp(size):\n",
    "    lista = []\n",
    "    u1 = np.random.random(size)\n",
    "    u2 = np.random.random(size)\n",
    "    for i in range(size):\n",
    "        if u1[i] < 1/3:\n",
    "            lista.append(u2[i])\n",
    "        elif u1[i]< 2/3:\n",
    "            lista.append(u2[i]**(1/2))\n",
    "        else: \n",
    "            lista.append(u2[i]**(1/3))\n",
    "    return np.array(lista)\n",
    "\n",
    "import matplotlib.pyplot as plt  # Importa la biblioteca Matplotlib para crear gráficos.\n",
    "\n",
    "# Establece el título del gráfico.\n",
    "plt.title(\"Evelyn\")\n",
    "\n",
    "# Grafica la función de densidad para la parte positiva de x (x >= 0).\n",
    "plt.plot(x1, rcomp(x1), color=\"black\", label=\"f1\")\n",
    "\n",
    "# Rellena el área bajo la curva para la parte positiva de x, con color azul claro y algo de transparencia.\n",
    "plt.fill_between(x1, rcomp(x1), color=\"skyblue\", alpha=0.5, label=\"f1\")\n",
    "\n",
    "# Grafica la función de densidad para la parte negativa de x (x < 0).\n",
    "plt.plot(x2, rcomp(x2), color=\"black\")\n",
    "\n",
    "# Rellena el área bajo la curva para la parte negativa de x, con color rosa.\n",
    "plt.fill_between(x2, f(x2), color=\"pink\", label=\"f2\")\n"
   ]
  }
 ],
 "metadata": {
  "kernelspec": {
   "display_name": "Python 3 (ipykernel)",
   "language": "python",
   "name": "python3"
  },
  "language_info": {
   "codemirror_mode": {
    "name": "ipython",
    "version": 3
   },
   "file_extension": ".py",
   "mimetype": "text/x-python",
   "name": "python",
   "nbconvert_exporter": "python",
   "pygments_lexer": "ipython3",
   "version": "3.12.4"
  }
 },
 "nbformat": 4,
 "nbformat_minor": 5
}
