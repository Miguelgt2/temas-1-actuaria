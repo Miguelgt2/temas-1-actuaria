{
 "cells": [
  {
   "cell_type": "markdown",
   "id": "a5263683",
   "metadata": {},
   "source": [
    "# ejercicio clase 21 de agosto"
   ]
  },
  {
   "cell_type": "markdown",
   "id": "cb459351",
   "metadata": {},
   "source": [
    "# poisson"
   ]
  },
  {
   "cell_type": "code",
   "execution_count": 3,
   "id": "0ac61a7f",
   "metadata": {},
   "outputs": [
    {
     "name": "stdout",
     "output_type": "stream",
     "text": [
      "el valor de x= 3\n",
      "el valor de numero aleatoreo 0.47757445496940765\n",
      "el valor final de f es 0.6766764161830635\n"
     ]
    }
   ],
   "source": [
    "import numpy as np\n",
    "u=np.random.random()\n",
    "\n",
    "i= 0 # Inicializa el contador\n",
    "lamda=2\n",
    "p= np.exp(-lamda)\n",
    "f=p\n",
    "while True: # Bucle infinito\n",
    "    if u < f:\n",
    "        break # Sale del bucle\n",
    "    p=lamda*(p/(i+1))\n",
    "    f=f+p\n",
    "    i += 1\n",
    "    \n",
    "x=i+1\n",
    "print(\"el valor de x=\",x)\n",
    "print(\"el valor de numero aleatoreo\",u)\n",
    "print(\"el valor final de f es\",f)"
   ]
  },
  {
   "cell_type": "code",
   "execution_count": 6,
   "id": "2c9a8eda",
   "metadata": {},
   "outputs": [],
   "source": [
    "def poisson(n,lamda1):\n",
    "    lista = []\n",
    "    for a in range(n):\n",
    "        u=np.random.random()\n",
    "        lamda=lamda1\n",
    "        p= np.exp(-lamda)\n",
    "        f=p\n",
    "        i=0\n",
    "        while True: # Bucle infinito\n",
    "            if u < f:\n",
    "                break # Sale del bucle\n",
    "            p=lamda*(p/(i+1))\n",
    "            f=f+p\n",
    "            i=i+1\n",
    "        x=i+1\n",
    "        lista.append(x)\n",
    "        return np.array(lista)\n"
   ]
  },
  {
   "cell_type": "code",
   "execution_count": 7,
   "id": "6d70761b",
   "metadata": {},
   "outputs": [
    {
     "data": {
      "text/plain": [
       "5.0"
      ]
     },
     "execution_count": 7,
     "metadata": {},
     "output_type": "execute_result"
    }
   ],
   "source": [
    "poisson(1,4).mean()"
   ]
  },
  {
   "cell_type": "markdown",
   "id": "de2d45cd",
   "metadata": {},
   "source": [
    "# la otra funcion"
   ]
  },
  {
   "cell_type": "markdown",
   "id": "faed9ce7",
   "metadata": {},
   "source": [
    "# binomial "
   ]
  },
  {
   "cell_type": "code",
   "execution_count": 90,
   "id": "0633071a",
   "metadata": {},
   "outputs": [
    {
     "name": "stdout",
     "output_type": "stream",
     "text": [
      "el valor de x= 865\n",
      "el valor de numero aleatoreo 0.3557798916987409\n",
      "el valor final de f es 0.9547473066761538\n"
     ]
    }
   ],
   "source": [
    "u=np.random.random()\n",
    "\n",
    "i= 0 # Inicializa el contador\n",
    "n=5\n",
    "p=5\n",
    "c=p/(1-p)\n",
    "pr=(1-p)**n\n",
    "f=pr\n",
    "while True: # Bucle infinito\n",
    "    if u < f:\n",
    "        break # Sale del bucle\n",
    "    pr=(c*(n-i))/(i+1)\n",
    "    f=f+pr\n",
    "    i += 1\n",
    "    \n",
    "x=i+1\n",
    "print(\"el valor de x=\",x)\n",
    "print(\"el valor de numero aleatoreo\",u)\n",
    "print(\"el valor final de f es\",f)"
   ]
  },
  {
   "cell_type": "code",
   "execution_count": 8,
   "id": "45b9ef4f",
   "metadata": {},
   "outputs": [],
   "source": [
    "def binomial(sim,n1,p1):\n",
    "    lista = []\n",
    "    for a in range(sim):\n",
    "        u=np.random.random()\n",
    "        i= 0 # Inicializa el contador\n",
    "        n=n1\n",
    "        p=p1\n",
    "        c=p/(1-p)\n",
    "        pr=(1-p)**n\n",
    "        f=pr\n",
    "        while True: # Bucle infinito\n",
    "            if u < f:\n",
    "                break # Sale del bucle\n",
    "            pr=(c*(n-i))/(i+1)\n",
    "            f=f+pr\n",
    "            i += 1\n",
    "    \n",
    "        x=i+1\n",
    "        lista.append(x)\n",
    "        return np.array(lista)"
   ]
  },
  {
   "cell_type": "code",
   "execution_count": 10,
   "id": "ec33d6cc",
   "metadata": {},
   "outputs": [
    {
     "data": {
      "text/plain": [
       "2.0"
      ]
     },
     "execution_count": 10,
     "metadata": {},
     "output_type": "execute_result"
    }
   ],
   "source": [
    "binomial(100,5,.4).mean()"
   ]
  },
  {
   "cell_type": "code",
   "execution_count": null,
   "id": "face8725",
   "metadata": {},
   "outputs": [],
   "source": []
  }
 ],
 "metadata": {
  "kernelspec": {
   "display_name": "Python 3 (ipykernel)",
   "language": "python",
   "name": "python3"
  },
  "language_info": {
   "codemirror_mode": {
    "name": "ipython",
    "version": 3
   },
   "file_extension": ".py",
   "mimetype": "text/x-python",
   "name": "python",
   "nbconvert_exporter": "python",
   "pygments_lexer": "ipython3",
   "version": "3.11.4"
  }
 },
 "nbformat": 4,
 "nbformat_minor": 5
}
