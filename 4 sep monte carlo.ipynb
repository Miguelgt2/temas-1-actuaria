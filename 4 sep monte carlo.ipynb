{
 "cells": [
  {
   "cell_type": "markdown",
   "id": "fb75bfae-e221-4145-8d11-3df0e710913e",
   "metadata": {},
   "source": [
    "$$\\int_0^\\pi sen(x) dx = \\int_0^1$$"
   ]
  },
  {
   "cell_type": "code",
   "execution_count": 29,
   "id": "b27e5e38-39b8-4406-b30b-82015a58ae70",
   "metadata": {},
   "outputs": [
    {
     "data": {
      "text/plain": [
       "2.0123971746867113"
      ]
     },
     "execution_count": 29,
     "metadata": {},
     "output_type": "execute_result"
    }
   ],
   "source": [
    "import numpy as np\n",
    "\n",
    "def monte(n):\n",
    "    lista=[]\n",
    "    u = np.random.random(n)\n",
    "    x=((np.sin(np.pi*u))*np.pi).mean() #Se hace la evaluación de los números pseudoaleatorios en el argumento de la integral\n",
    "    \n",
    "    return x\n",
    "\n",
    "\n",
    "monte(10000)"
   ]
  },
  {
   "cell_type": "code",
   "execution_count": 23,
   "id": "e532b472-81bc-4412-82ce-a1397acbf4c3",
   "metadata": {},
   "outputs": [
    {
     "data": {
      "text/plain": [
       "2.0165007509533073"
      ]
     },
     "execution_count": 23,
     "metadata": {},
     "output_type": "execute_result"
    }
   ],
   "source": [
    "import numpy as np\n",
    "u = np.random.random(1000)\n",
    "((np.sin(np.pi*u))*np.pi).mean() #Se hace la evaluación de los números pseudoaleatorios en el argumento de la integral\n"
   ]
  },
  {
   "cell_type": "code",
   "execution_count": 25,
   "id": "9a54468b-b7b4-406f-8c91-e118e97c6e0f",
   "metadata": {},
   "outputs": [
    {
     "data": {
      "text/plain": [
       "2.0165007509533073"
      ]
     },
     "execution_count": 25,
     "metadata": {},
     "output_type": "execute_result"
    }
   ],
   "source": [
    "((np.sin(np.pi*u))*np.pi).mean()"
   ]
  },
  {
   "cell_type": "code",
   "execution_count": null,
   "id": "93ab85ab-809a-4f2a-87f6-ec75dd989c2b",
   "metadata": {},
   "outputs": [],
   "source": [
    "$$\\int_0^\\pi sen(x) dx = \\int_0^1$$"
   ]
  },
  {
   "cell_type": "code",
   "execution_count": 33,
   "id": "75ca8d4a-4bbb-4013-be81-c34b8bffe928",
   "metadata": {},
   "outputs": [
    {
     "data": {
      "text/plain": [
       "0.4081083442449889"
      ]
     },
     "execution_count": 33,
     "metadata": {},
     "output_type": "execute_result"
    }
   ],
   "source": [
    "import numpy as np\n",
    "u1 = np.random.random(1000)\n",
    "u2 = np.random.random(1000)\n",
    "u3 = np.random.random(1000)\n",
    "(np.exp(-(u1**2+u2**2+u3**2))).mean() #Se hace la evaluación de los números pseudoaleatorios en el argumento de la integral\n"
   ]
  },
  {
   "cell_type": "code",
   "execution_count": null,
   "id": "6640d5ec-f21b-4e45-ba67-f42e9c2ff3c4",
   "metadata": {},
   "outputs": [],
   "source": []
  }
 ],
 "metadata": {
  "kernelspec": {
   "display_name": "Python 3 (ipykernel)",
   "language": "python",
   "name": "python3"
  },
  "language_info": {
   "codemirror_mode": {
    "name": "ipython",
    "version": 3
   },
   "file_extension": ".py",
   "mimetype": "text/x-python",
   "name": "python",
   "nbconvert_exporter": "python",
   "pygments_lexer": "ipython3",
   "version": "3.11.4"
  }
 },
 "nbformat": 4,
 "nbformat_minor": 5
}
