{
 "cells": [
  {
   "cell_type": "code",
   "execution_count": null,
   "id": "7dc24dac",
   "metadata": {},
   "outputs": [],
   "source": [
    "import numpy as np\n",
    "def poisson(l,s):\n",
    "    t=0\n",
    "    m=0\n",
    "    if t<s:\n",
    "        u=random.random()\n",
    "        t=t-((1/l)*(np.log(u)))\n",
    "        m=m+1\n",
    "    return t,m\n",
    "    "
   ]
  },
  {
   "cell_type": "code",
   "execution_count": 22,
   "id": "98903c6b",
   "metadata": {},
   "outputs": [],
   "source": [
    "import numpy as np\n",
    "\n",
    "def poisson(l, s):\n",
    "    t = 0\n",
    "    m = 0  # Initialize m to 0\n",
    "    while t < s:  # Use a while loop to continue until t reaches s\n",
    "        u = np.random.random()  # Generate a random number\n",
    "        t += -((1 / l) * np.log(u))  # Update t using the exponential distribution\n",
    "        m += 1  # Increment m for each event\n",
    "    return t, m\n"
   ]
  },
  {
   "cell_type": "code",
   "execution_count": null,
   "id": "6b5ae1b1",
   "metadata": {},
   "outputs": [],
   "source": [
    "poisson(2,8)"
   ]
  },
  {
   "cell_type": "code",
   "execution_count": 58,
   "id": "cb3723d1",
   "metadata": {},
   "outputs": [],
   "source": [
    "import numpy as np\n",
    "\n",
    "def poisson(l, s, n):\n",
    "    results = [] \n",
    "    lista1= []\n",
    "    lista2=[]\n",
    "    for i in range(n): \n",
    "        t = 0\n",
    "        m = 0  \n",
    "        while t < s:  \n",
    "            u = np.random.random()  \n",
    "            t = t-((1 / l) * np.log(u))  \n",
    "            m = m+1\n",
    "        lista1.append(m)\n",
    "        lista2.append(t)\n",
    "    return np.array(lista1) \n"
   ]
  },
  {
   "cell_type": "code",
   "execution_count": 59,
   "id": "0df7542c",
   "metadata": {},
   "outputs": [
    {
     "data": {
      "text/plain": [
       "15.0251"
      ]
     },
     "execution_count": 59,
     "metadata": {},
     "output_type": "execute_result"
    }
   ],
   "source": [
    "poisson(2,7,10000).mean()"
   ]
  },
  {
   "cell_type": "markdown",
   "id": "800194b2",
   "metadata": {},
   "source": [
    "# clase 2 de octubre "
   ]
  },
  {
   "cell_type": "code",
   "execution_count": 1,
   "id": "e868a9ff",
   "metadata": {},
   "outputs": [],
   "source": [
    "import numpy as np\n",
    "def proceso_poisson(l,s):\n",
    "    \n",
    "#s=10 #umbral\n",
    "#l=1 #intensidad lamda\n",
    "    t=0 #tiempo\n",
    "    i=0 #contador de ocurrencia\n",
    "    S=0 # tiempo en el que ocurrer la i esima ocurrencia\n",
    "    while t<=s:\n",
    "        u=np.random.random()  \n",
    "        t=t-(1/l)*np.log(u)\n",
    "        if t>s:\n",
    "            break\n",
    "        else:\n",
    "            i=i+1\n",
    "            S=t\n",
    "    return S,i"
   ]
  },
  {
   "cell_type": "code",
   "execution_count": 7,
   "id": "4f32ecc9",
   "metadata": {},
   "outputs": [],
   "source": [
    "s=10\n",
    "l=1\n",
    "t=0 #tiempo\n",
    "i=0 #contador de ocurrencia\n",
    "S=0 # tiempo en el que ocurrer la i esima ocurrencia\n",
    "while t<=s:\n",
    "    u=np.random.random()  \n",
    "    t=t-(1/l)*np.log(u)\n",
    "    if t>s:\n",
    "        break\n",
    "    else:\n",
    "        i=i+1\n",
    "        S=t"
   ]
  },
  {
   "cell_type": "code",
   "execution_count": 8,
   "id": "b3aef1c6",
   "metadata": {},
   "outputs": [
    {
     "data": {
      "text/plain": [
       "9"
      ]
     },
     "execution_count": 8,
     "metadata": {},
     "output_type": "execute_result"
    }
   ],
   "source": [
    "i"
   ]
  },
  {
   "cell_type": "code",
   "execution_count": 9,
   "id": "7e518690",
   "metadata": {},
   "outputs": [
    {
     "name": "stdout",
     "output_type": "stream",
     "text": [
      "llegaron 9 personas en 9.19817255581247\n"
     ]
    }
   ],
   "source": [
    "print(\"llegaron\",i,\"personas en\",S)"
   ]
  },
  {
   "cell_type": "code",
   "execution_count": 18,
   "id": "b2c4c080",
   "metadata": {},
   "outputs": [
    {
     "data": {
      "text/plain": [
       "(9.59042314400459, 31)"
      ]
     },
     "execution_count": 18,
     "metadata": {},
     "output_type": "execute_result"
    }
   ],
   "source": [
    "proceso_poisson(3,10)"
   ]
  },
  {
   "cell_type": "code",
   "execution_count": 19,
   "id": "81b3278f",
   "metadata": {},
   "outputs": [],
   "source": [
    "S,i=proceso_poisson(3,10)"
   ]
  },
  {
   "cell_type": "code",
   "execution_count": 21,
   "id": "fe084774",
   "metadata": {},
   "outputs": [
    {
     "name": "stdout",
     "output_type": "stream",
     "text": [
      "llegaron 29 personas en 9.812502282868344 unidades de tiempo\n"
     ]
    }
   ],
   "source": [
    "print(\"llegaron\",i,\"personas en\",S,\"unidades de tiempo\")"
   ]
  },
  {
   "cell_type": "code",
   "execution_count": 48,
   "id": "803b37d4",
   "metadata": {},
   "outputs": [],
   "source": [
    "ocurrencias=[]\n",
    "tiempos=[]\n",
    "for w in range(10000):\n",
    "    S,i=proceso_poisson(3,10)\n",
    "    ocurrencias.append(i)\n",
    "    tiempos.append(S)\n",
    "    "
   ]
  },
  {
   "cell_type": "code",
   "execution_count": 26,
   "id": "ba87c8b9",
   "metadata": {},
   "outputs": [
    {
     "data": {
      "text/plain": [
       "30.0075"
      ]
     },
     "execution_count": 26,
     "metadata": {},
     "output_type": "execute_result"
    }
   ],
   "source": [
    "np.array(ocurrencias).mean()"
   ]
  },
  {
   "cell_type": "code",
   "execution_count": 28,
   "id": "b8b2ef6c",
   "metadata": {},
   "outputs": [
    {
     "data": {
      "text/plain": [
       "9.672527919597739"
      ]
     },
     "execution_count": 28,
     "metadata": {},
     "output_type": "execute_result"
    }
   ],
   "source": [
    "np.array(tiempos).mean()"
   ]
  },
  {
   "cell_type": "markdown",
   "id": "3861152e",
   "metadata": {},
   "source": [
    "# ejercicio clase\n"
   ]
  },
  {
   "cell_type": "code",
   "execution_count": 37,
   "id": "1b42b1f6",
   "metadata": {},
   "outputs": [
    {
     "data": {
      "text/plain": [
       "(5.847931578916011, 15)"
      ]
     },
     "execution_count": 37,
     "metadata": {},
     "output_type": "execute_result"
    }
   ],
   "source": [
    "proceso_poisson(2,7)"
   ]
  },
  {
   "cell_type": "code",
   "execution_count": 63,
   "id": "02b72a0e",
   "metadata": {},
   "outputs": [],
   "source": [
    "ocurrencias=[]\n",
    "tiempos=[]\n",
    "for w in range(10000):\n",
    "    S,i=proceso_poisson(2,7)\n",
    "    ocurrencias.append(i)\n",
    "    tiempos.append(S)"
   ]
  },
  {
   "cell_type": "code",
   "execution_count": 61,
   "id": "812fedf4",
   "metadata": {},
   "outputs": [],
   "source": [
    "ocurrencias=[]\n",
    "tiempos=[]\n",
    "contador=0\n",
    "for w in range(10000):ocurrencias=[]\n",
    "tiempos=[]\n",
    "for w in range(10000):\n",
    "    S,i=proceso_poisson(2,7)\n",
    "    ocurrencias.append(i)\n",
    "    tiempos.append(S)\n",
    "    S,i=proceso_poisson(2,7)\n",
    "    if i==5:\n",
    "        contador=contador+1"
   ]
  },
  {
   "cell_type": "code",
   "execution_count": 64,
   "id": "798684ba",
   "metadata": {},
   "outputs": [
    {
     "data": {
      "text/plain": [
       "38"
      ]
     },
     "execution_count": 64,
     "metadata": {},
     "output_type": "execute_result"
    }
   ],
   "source": [
    "claims=np.array(ocurrencias)\n",
    "len(claims[claims==5])"
   ]
  },
  {
   "cell_type": "code",
   "execution_count": 54,
   "id": "b8ab2578",
   "metadata": {},
   "outputs": [
    {
     "data": {
      "text/plain": [
       "0.0035"
      ]
     },
     "execution_count": 54,
     "metadata": {},
     "output_type": "execute_result"
    }
   ],
   "source": [
    "contador/10000"
   ]
  },
  {
   "cell_type": "code",
   "execution_count": 45,
   "id": "9c8a981a",
   "metadata": {},
   "outputs": [
    {
     "data": {
      "text/plain": [
       "0.0032"
      ]
     },
     "execution_count": 45,
     "metadata": {},
     "output_type": "execute_result"
    }
   ],
   "source": [
    "c"
   ]
  },
  {
   "cell_type": "markdown",
   "id": "4d693cbe",
   "metadata": {},
   "source": [
    "# clase 7 de octubre\n"
   ]
  },
  {
   "cell_type": "code",
   "execution_count": 31,
   "id": "14d5ce5f",
   "metadata": {},
   "outputs": [],
   "source": [
    "ocurrencias=[]\n",
    "tiempos=[]\n",
    "for w in range(1000000):\n",
    "    #(S,landa)\n",
    "    S,i=proceso_poisson(2,0.1)\n",
    "    ocurrencias.append(i)\n",
    "    tiempos.append(S)"
   ]
  },
  {
   "cell_type": "code",
   "execution_count": 32,
   "id": "76394aaa",
   "metadata": {},
   "outputs": [],
   "source": [
    "tiempos=[]\n",
    "contador=0\n",
    "for w in range(1000000):\n",
    "    S,i=proceso_poisson(2,0.1)\n",
    "    if i==0:\n",
    "        contador=contador+1"
   ]
  },
  {
   "cell_type": "code",
   "execution_count": 33,
   "id": "a2c1e995",
   "metadata": {},
   "outputs": [
    {
     "data": {
      "text/plain": [
       "819463"
      ]
     },
     "execution_count": 33,
     "metadata": {},
     "output_type": "execute_result"
    }
   ],
   "source": [
    "claims=np.array(ocurrencias)\n",
    "len(claims[claims==0])"
   ]
  },
  {
   "cell_type": "code",
   "execution_count": 34,
   "id": "f560ff51",
   "metadata": {},
   "outputs": [
    {
     "data": {
      "text/plain": [
       "0.818782"
      ]
     },
     "execution_count": 34,
     "metadata": {},
     "output_type": "execute_result"
    }
   ],
   "source": [
    "contador/1000000"
   ]
  },
  {
   "cell_type": "code",
   "execution_count": null,
   "id": "3a62793b",
   "metadata": {},
   "outputs": [],
   "source": []
  }
 ],
 "metadata": {
  "kernelspec": {
   "display_name": "Python 3 (ipykernel)",
   "language": "python",
   "name": "python3"
  },
  "language_info": {
   "codemirror_mode": {
    "name": "ipython",
    "version": 3
   },
   "file_extension": ".py",
   "mimetype": "text/x-python",
   "name": "python",
   "nbconvert_exporter": "python",
   "pygments_lexer": "ipython3",
   "version": "3.11.4"
  }
 },
 "nbformat": 4,
 "nbformat_minor": 5
}
